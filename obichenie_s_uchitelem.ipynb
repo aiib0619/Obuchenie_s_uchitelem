{
 "cells": [
  {
   "cell_type": "markdown",
   "metadata": {
    "toc": true
   },
   "source": [
    "<h1>Содержание<span class=\"tocSkip\"></span></h1>\n",
    "<div class=\"toc\"><ul class=\"toc-item\"><li><span><a href=\"#Подготовка-данных\" data-toc-modified-id=\"Подготовка-данных-1\"><span class=\"toc-item-num\">1&nbsp;&nbsp;</span>Подготовка данных</a></span></li><li><span><a href=\"#Исследование-задачи\" data-toc-modified-id=\"Исследование-задачи-2\"><span class=\"toc-item-num\">2&nbsp;&nbsp;</span>Исследование задачи</a></span><ul class=\"toc-item\"><li><span><a href=\"#Логистическая-регрессия-без-учета-дисбаланса\" data-toc-modified-id=\"Логистическая-регрессия-без-учета-дисбаланса-2.1\"><span class=\"toc-item-num\">2.1&nbsp;&nbsp;</span>Логистическая регрессия без учета дисбаланса</a></span></li><li><span><a href=\"#Решающее-дерево-без-учета-дисбаланса\" data-toc-modified-id=\"Решающее-дерево-без-учета-дисбаланса-2.2\"><span class=\"toc-item-num\">2.2&nbsp;&nbsp;</span>Решающее дерево без учета дисбаланса</a></span></li><li><span><a href=\"#Случайный-лес-без-учета-дисбаланса\" data-toc-modified-id=\"Случайный-лес-без-учета-дисбаланса-2.3\"><span class=\"toc-item-num\">2.3&nbsp;&nbsp;</span>Случайный лес без учета дисбаланса</a></span></li></ul></li><li><span><a href=\"#Борьба-с-дисбалансом\" data-toc-modified-id=\"Борьба-с-дисбалансом-3\"><span class=\"toc-item-num\">3&nbsp;&nbsp;</span>Борьба с дисбалансом</a></span><ul class=\"toc-item\"><li><span><a href=\"#Взвешивание-классов\" data-toc-modified-id=\"Взвешивание-классов-3.1\"><span class=\"toc-item-num\">3.1&nbsp;&nbsp;</span>Взвешивание классов</a></span><ul class=\"toc-item\"><li><span><a href=\"#Логистическая-регрессия\" data-toc-modified-id=\"Логистическая-регрессия-3.1.1\"><span class=\"toc-item-num\">3.1.1&nbsp;&nbsp;</span>Логистическая регрессия</a></span></li><li><span><a href=\"#Решающее-дерево\" data-toc-modified-id=\"Решающее-дерево-3.1.2\"><span class=\"toc-item-num\">3.1.2&nbsp;&nbsp;</span>Решающее дерево</a></span></li><li><span><a href=\"#Случайный-лес\" data-toc-modified-id=\"Случайный-лес-3.1.3\"><span class=\"toc-item-num\">3.1.3&nbsp;&nbsp;</span>Случайный лес</a></span></li></ul></li><li><span><a href=\"#Увеличение-выборки-(upsampling)\" data-toc-modified-id=\"Увеличение-выборки-(upsampling)-3.2\"><span class=\"toc-item-num\">3.2&nbsp;&nbsp;</span>Увеличение выборки (upsampling)</a></span><ul class=\"toc-item\"><li><span><a href=\"#Логистическая-регрессия\" data-toc-modified-id=\"Логистическая-регрессия-3.2.1\"><span class=\"toc-item-num\">3.2.1&nbsp;&nbsp;</span>Логистическая регрессия</a></span></li><li><span><a href=\"#Решающее-дерево\" data-toc-modified-id=\"Решающее-дерево-3.2.2\"><span class=\"toc-item-num\">3.2.2&nbsp;&nbsp;</span>Решающее дерево</a></span></li><li><span><a href=\"#Случайный-лес\" data-toc-modified-id=\"Случайный-лес-3.2.3\"><span class=\"toc-item-num\">3.2.3&nbsp;&nbsp;</span>Случайный лес</a></span></li></ul></li><li><span><a href=\"#Уменьшение-выборки-(downsampling)\" data-toc-modified-id=\"Уменьшение-выборки-(downsampling)-3.3\"><span class=\"toc-item-num\">3.3&nbsp;&nbsp;</span>Уменьшение выборки (downsampling)</a></span><ul class=\"toc-item\"><li><span><a href=\"#Логистическая-регрессия\" data-toc-modified-id=\"Логистическая-регрессия-3.3.1\"><span class=\"toc-item-num\">3.3.1&nbsp;&nbsp;</span>Логистическая регрессия</a></span></li><li><span><a href=\"#Решающее-дерево\" data-toc-modified-id=\"Решающее-дерево-3.3.2\"><span class=\"toc-item-num\">3.3.2&nbsp;&nbsp;</span>Решающее дерево</a></span></li><li><span><a href=\"#Случайный-лес\" data-toc-modified-id=\"Случайный-лес-3.3.3\"><span class=\"toc-item-num\">3.3.3&nbsp;&nbsp;</span>Случайный лес</a></span></li></ul></li></ul></li><li><span><a href=\"#Тестирование-модели\" data-toc-modified-id=\"Тестирование-модели-4\"><span class=\"toc-item-num\">4&nbsp;&nbsp;</span>Тестирование модели</a></span></li><li><span><a href=\"#Вывод\" data-toc-modified-id=\"Вывод-5\"><span class=\"toc-item-num\">5&nbsp;&nbsp;</span>Вывод</a></span></li><li><span><a href=\"#Чек-лист-готовности-проекта\" data-toc-modified-id=\"Чек-лист-готовности-проекта-6\"><span class=\"toc-item-num\">6&nbsp;&nbsp;</span>Чек-лист готовности проекта</a></span></li></ul></div>"
   ]
  },
  {
   "cell_type": "markdown",
   "metadata": {},
   "source": [
    "# Отток клиентов"
   ]
  },
  {
   "cell_type": "markdown",
   "metadata": {},
   "source": [
    "Из «Бета-Банка» стали уходить клиенты. Каждый месяц. Немного, но заметно. Банковские маркетологи посчитали: сохранять текущих клиентов дешевле, чем привлекать новых.\n",
    "\n",
    "Нужно спрогнозировать, уйдёт клиент из банка в ближайшее время или нет. Вам предоставлены исторические данные о поведении клиентов и расторжении договоров с банком. \n",
    "\n",
    "Постройте модель с предельно большим значением *F1*-меры. Чтобы сдать проект успешно, нужно довести метрику до 0.59. Проверьте *F1*-меру на тестовой выборке самостоятельно.\n",
    "\n",
    "Дополнительно измеряйте *AUC-ROC*, сравнивайте её значение с *F1*-мерой.\n",
    "\n",
    "Источник данных: [https://www.kaggle.com/barelydedicated/bank-customer-churn-modeling](https://www.kaggle.com/barelydedicated/bank-customer-churn-modeling)"
   ]
  },
  {
   "cell_type": "markdown",
   "metadata": {},
   "source": [
    "## Подготовка данных"
   ]
  },
  {
   "cell_type": "code",
   "execution_count": 3,
   "metadata": {},
   "outputs": [],
   "source": [
    "import numpy as np\n",
    "import pandas as pd\n",
    "import seaborn as sns\n",
    "\n",
    "from tqdm.notebook import tqdm\n",
    "from matplotlib import pyplot as plt\n",
    "\n",
    "from sklearn.tree import DecisionTreeClassifier, plot_tree\n",
    "from sklearn.ensemble import RandomForestClassifier\n",
    "from sklearn.linear_model import LogisticRegression\n",
    "from sklearn.utils import shuffle\n",
    "from sklearn.model_selection import train_test_split\n",
    "from sklearn.preprocessing import StandardScaler\n",
    "from sklearn.metrics import recall_score, precision_score, precision_recall_curve, f1_score, roc_auc_score, roc_curve,confusion_matrix"
   ]
  },
  {
   "cell_type": "code",
   "execution_count": 4,
   "metadata": {},
   "outputs": [],
   "source": [
    "df = pd.read_csv('/datasets/Churn.csv')"
   ]
  },
  {
   "cell_type": "code",
   "execution_count": 5,
   "metadata": {},
   "outputs": [
    {
     "data": {
      "text/html": [
       "<div>\n",
       "<style scoped>\n",
       "    .dataframe tbody tr th:only-of-type {\n",
       "        vertical-align: middle;\n",
       "    }\n",
       "\n",
       "    .dataframe tbody tr th {\n",
       "        vertical-align: top;\n",
       "    }\n",
       "\n",
       "    .dataframe thead th {\n",
       "        text-align: right;\n",
       "    }\n",
       "</style>\n",
       "<table border=\"1\" class=\"dataframe\">\n",
       "  <thead>\n",
       "    <tr style=\"text-align: right;\">\n",
       "      <th></th>\n",
       "      <th>RowNumber</th>\n",
       "      <th>CustomerId</th>\n",
       "      <th>Surname</th>\n",
       "      <th>CreditScore</th>\n",
       "      <th>Geography</th>\n",
       "      <th>Gender</th>\n",
       "      <th>Age</th>\n",
       "      <th>Tenure</th>\n",
       "      <th>Balance</th>\n",
       "      <th>NumOfProducts</th>\n",
       "      <th>HasCrCard</th>\n",
       "      <th>IsActiveMember</th>\n",
       "      <th>EstimatedSalary</th>\n",
       "      <th>Exited</th>\n",
       "    </tr>\n",
       "  </thead>\n",
       "  <tbody>\n",
       "    <tr>\n",
       "      <th>0</th>\n",
       "      <td>1</td>\n",
       "      <td>15634602</td>\n",
       "      <td>Hargrave</td>\n",
       "      <td>619</td>\n",
       "      <td>France</td>\n",
       "      <td>Female</td>\n",
       "      <td>42</td>\n",
       "      <td>2.0</td>\n",
       "      <td>0.00</td>\n",
       "      <td>1</td>\n",
       "      <td>1</td>\n",
       "      <td>1</td>\n",
       "      <td>101348.88</td>\n",
       "      <td>1</td>\n",
       "    </tr>\n",
       "    <tr>\n",
       "      <th>1</th>\n",
       "      <td>2</td>\n",
       "      <td>15647311</td>\n",
       "      <td>Hill</td>\n",
       "      <td>608</td>\n",
       "      <td>Spain</td>\n",
       "      <td>Female</td>\n",
       "      <td>41</td>\n",
       "      <td>1.0</td>\n",
       "      <td>83807.86</td>\n",
       "      <td>1</td>\n",
       "      <td>0</td>\n",
       "      <td>1</td>\n",
       "      <td>112542.58</td>\n",
       "      <td>0</td>\n",
       "    </tr>\n",
       "    <tr>\n",
       "      <th>2</th>\n",
       "      <td>3</td>\n",
       "      <td>15619304</td>\n",
       "      <td>Onio</td>\n",
       "      <td>502</td>\n",
       "      <td>France</td>\n",
       "      <td>Female</td>\n",
       "      <td>42</td>\n",
       "      <td>8.0</td>\n",
       "      <td>159660.80</td>\n",
       "      <td>3</td>\n",
       "      <td>1</td>\n",
       "      <td>0</td>\n",
       "      <td>113931.57</td>\n",
       "      <td>1</td>\n",
       "    </tr>\n",
       "    <tr>\n",
       "      <th>3</th>\n",
       "      <td>4</td>\n",
       "      <td>15701354</td>\n",
       "      <td>Boni</td>\n",
       "      <td>699</td>\n",
       "      <td>France</td>\n",
       "      <td>Female</td>\n",
       "      <td>39</td>\n",
       "      <td>1.0</td>\n",
       "      <td>0.00</td>\n",
       "      <td>2</td>\n",
       "      <td>0</td>\n",
       "      <td>0</td>\n",
       "      <td>93826.63</td>\n",
       "      <td>0</td>\n",
       "    </tr>\n",
       "    <tr>\n",
       "      <th>4</th>\n",
       "      <td>5</td>\n",
       "      <td>15737888</td>\n",
       "      <td>Mitchell</td>\n",
       "      <td>850</td>\n",
       "      <td>Spain</td>\n",
       "      <td>Female</td>\n",
       "      <td>43</td>\n",
       "      <td>2.0</td>\n",
       "      <td>125510.82</td>\n",
       "      <td>1</td>\n",
       "      <td>1</td>\n",
       "      <td>1</td>\n",
       "      <td>79084.10</td>\n",
       "      <td>0</td>\n",
       "    </tr>\n",
       "  </tbody>\n",
       "</table>\n",
       "</div>"
      ],
      "text/plain": [
       "   RowNumber  CustomerId   Surname  CreditScore Geography  Gender  Age  \\\n",
       "0          1    15634602  Hargrave          619    France  Female   42   \n",
       "1          2    15647311      Hill          608     Spain  Female   41   \n",
       "2          3    15619304      Onio          502    France  Female   42   \n",
       "3          4    15701354      Boni          699    France  Female   39   \n",
       "4          5    15737888  Mitchell          850     Spain  Female   43   \n",
       "\n",
       "   Tenure    Balance  NumOfProducts  HasCrCard  IsActiveMember  \\\n",
       "0     2.0       0.00              1          1               1   \n",
       "1     1.0   83807.86              1          0               1   \n",
       "2     8.0  159660.80              3          1               0   \n",
       "3     1.0       0.00              2          0               0   \n",
       "4     2.0  125510.82              1          1               1   \n",
       "\n",
       "   EstimatedSalary  Exited  \n",
       "0        101348.88       1  \n",
       "1        112542.58       0  \n",
       "2        113931.57       1  \n",
       "3         93826.63       0  \n",
       "4         79084.10       0  "
      ]
     },
     "metadata": {},
     "output_type": "display_data"
    }
   ],
   "source": [
    "display(df.head())"
   ]
  },
  {
   "cell_type": "code",
   "execution_count": 6,
   "metadata": {},
   "outputs": [
    {
     "name": "stdout",
     "output_type": "stream",
     "text": [
      "<class 'pandas.core.frame.DataFrame'>\n",
      "RangeIndex: 10000 entries, 0 to 9999\n",
      "Data columns (total 14 columns):\n",
      " #   Column           Non-Null Count  Dtype  \n",
      "---  ------           --------------  -----  \n",
      " 0   RowNumber        10000 non-null  int64  \n",
      " 1   CustomerId       10000 non-null  int64  \n",
      " 2   Surname          10000 non-null  object \n",
      " 3   CreditScore      10000 non-null  int64  \n",
      " 4   Geography        10000 non-null  object \n",
      " 5   Gender           10000 non-null  object \n",
      " 6   Age              10000 non-null  int64  \n",
      " 7   Tenure           9091 non-null   float64\n",
      " 8   Balance          10000 non-null  float64\n",
      " 9   NumOfProducts    10000 non-null  int64  \n",
      " 10  HasCrCard        10000 non-null  int64  \n",
      " 11  IsActiveMember   10000 non-null  int64  \n",
      " 12  EstimatedSalary  10000 non-null  float64\n",
      " 13  Exited           10000 non-null  int64  \n",
      "dtypes: float64(3), int64(8), object(3)\n",
      "memory usage: 1.1+ MB\n"
     ]
    }
   ],
   "source": [
    "df.info()"
   ]
  },
  {
   "cell_type": "markdown",
   "metadata": {},
   "source": [
    "Признаки\n",
    "- RowNumber — индекс строки в данных\n",
    "- CustomerId — уникальный идентификатор клиента\n",
    "- Surname — фамилия\n",
    "- CreditScore — кредитный рейтинг\n",
    "- Geography — страна проживания\n",
    "- Gender — пол\n",
    "- Age — возраст\n",
    "- Tenure — сколько лет человек является клиентом банка\n",
    "- Balance — баланс на счёте\n",
    "- NumOfProducts — количество продуктов банка, используемых клиентом\n",
    "- HasCrCard — наличие кредитной карты\n",
    "- IsActiveMember — активность клиента\n",
    "- EstimatedSalary — предполагаемая зарплата\n",
    "\n",
    "\n",
    "Целевой признак\n",
    "- Exited — факт ухода клиента"
   ]
  },
  {
   "cell_type": "markdown",
   "metadata": {},
   "source": [
    "Нужно изменить названия столбцов на более удобные:"
   ]
  },
  {
   "cell_type": "code",
   "execution_count": 7,
   "metadata": {},
   "outputs": [
    {
     "name": "stdout",
     "output_type": "stream",
     "text": [
      "Index(['row_number', 'customer_id', 'surname', 'credit_score', 'geography',\n",
      "       'gender', 'age', 'tenure', 'balance', 'num_of_products', 'has_cr_card',\n",
      "       'is_active_member', 'estimated_salary', 'exited'],\n",
      "      dtype='object')\n"
     ]
    }
   ],
   "source": [
    "def camel_to_snake(column): \n",
    "    for char in column:\n",
    "        if char.isupper():\n",
    "            column = column.replace(char, '_' + char.lower())\n",
    "    return column[1:]\n",
    "\n",
    "for col in df.columns:\n",
    "    new_col = camel_to_snake(col)\n",
    "    df.rename(columns = {col : new_col}, inplace=True)\n",
    "print(df.columns) # контроль"
   ]
  },
  {
   "cell_type": "markdown",
   "metadata": {},
   "source": [
    "Столбцы 'row_number', 'customer_id', 'surname' не несут полезной информации для исследования, поэтому я тих удаляю."
   ]
  },
  {
   "cell_type": "code",
   "execution_count": 8,
   "metadata": {},
   "outputs": [],
   "source": [
    "df.drop(['row_number', 'customer_id', 'surname'], axis=1, inplace=True) # удаляю  колонку с индексацией "
   ]
  },
  {
   "cell_type": "markdown",
   "metadata": {},
   "source": [
    "Заметила, что есть несколько строк с незаполненными значениями tenure, посмотрим, как эти данные отличаются от всего датасета "
   ]
  },
  {
   "cell_type": "code",
   "execution_count": 9,
   "metadata": {},
   "outputs": [
    {
     "data": {
      "text/html": [
       "<div>\n",
       "<style scoped>\n",
       "    .dataframe tbody tr th:only-of-type {\n",
       "        vertical-align: middle;\n",
       "    }\n",
       "\n",
       "    .dataframe tbody tr th {\n",
       "        vertical-align: top;\n",
       "    }\n",
       "\n",
       "    .dataframe thead th {\n",
       "        text-align: right;\n",
       "    }\n",
       "</style>\n",
       "<table border=\"1\" class=\"dataframe\">\n",
       "  <thead>\n",
       "    <tr style=\"text-align: right;\">\n",
       "      <th></th>\n",
       "      <th>credit_score</th>\n",
       "      <th>age</th>\n",
       "      <th>tenure</th>\n",
       "      <th>balance</th>\n",
       "      <th>num_of_products</th>\n",
       "      <th>has_cr_card</th>\n",
       "      <th>is_active_member</th>\n",
       "      <th>estimated_salary</th>\n",
       "      <th>exited</th>\n",
       "    </tr>\n",
       "  </thead>\n",
       "  <tbody>\n",
       "    <tr>\n",
       "      <th>count</th>\n",
       "      <td>909.000000</td>\n",
       "      <td>909.000000</td>\n",
       "      <td>0.0</td>\n",
       "      <td>909.000000</td>\n",
       "      <td>909.000000</td>\n",
       "      <td>909.000000</td>\n",
       "      <td>909.000000</td>\n",
       "      <td>909.000000</td>\n",
       "      <td>909.000000</td>\n",
       "    </tr>\n",
       "    <tr>\n",
       "      <th>mean</th>\n",
       "      <td>648.451045</td>\n",
       "      <td>38.647965</td>\n",
       "      <td>NaN</td>\n",
       "      <td>76117.341474</td>\n",
       "      <td>1.530253</td>\n",
       "      <td>0.710671</td>\n",
       "      <td>0.510451</td>\n",
       "      <td>99180.389373</td>\n",
       "      <td>0.201320</td>\n",
       "    </tr>\n",
       "    <tr>\n",
       "      <th>std</th>\n",
       "      <td>99.079381</td>\n",
       "      <td>9.785438</td>\n",
       "      <td>NaN</td>\n",
       "      <td>63105.690715</td>\n",
       "      <td>0.588452</td>\n",
       "      <td>0.453701</td>\n",
       "      <td>0.500166</td>\n",
       "      <td>56378.063765</td>\n",
       "      <td>0.401207</td>\n",
       "    </tr>\n",
       "    <tr>\n",
       "      <th>min</th>\n",
       "      <td>359.000000</td>\n",
       "      <td>18.000000</td>\n",
       "      <td>NaN</td>\n",
       "      <td>0.000000</td>\n",
       "      <td>1.000000</td>\n",
       "      <td>0.000000</td>\n",
       "      <td>0.000000</td>\n",
       "      <td>106.670000</td>\n",
       "      <td>0.000000</td>\n",
       "    </tr>\n",
       "    <tr>\n",
       "      <th>25%</th>\n",
       "      <td>580.000000</td>\n",
       "      <td>32.000000</td>\n",
       "      <td>NaN</td>\n",
       "      <td>0.000000</td>\n",
       "      <td>1.000000</td>\n",
       "      <td>0.000000</td>\n",
       "      <td>0.000000</td>\n",
       "      <td>49872.330000</td>\n",
       "      <td>0.000000</td>\n",
       "    </tr>\n",
       "    <tr>\n",
       "      <th>50%</th>\n",
       "      <td>647.000000</td>\n",
       "      <td>37.000000</td>\n",
       "      <td>NaN</td>\n",
       "      <td>96674.550000</td>\n",
       "      <td>1.000000</td>\n",
       "      <td>1.000000</td>\n",
       "      <td>1.000000</td>\n",
       "      <td>99444.020000</td>\n",
       "      <td>0.000000</td>\n",
       "    </tr>\n",
       "    <tr>\n",
       "      <th>75%</th>\n",
       "      <td>718.000000</td>\n",
       "      <td>43.000000</td>\n",
       "      <td>NaN</td>\n",
       "      <td>128554.980000</td>\n",
       "      <td>2.000000</td>\n",
       "      <td>1.000000</td>\n",
       "      <td>1.000000</td>\n",
       "      <td>145759.700000</td>\n",
       "      <td>0.000000</td>\n",
       "    </tr>\n",
       "    <tr>\n",
       "      <th>max</th>\n",
       "      <td>850.000000</td>\n",
       "      <td>92.000000</td>\n",
       "      <td>NaN</td>\n",
       "      <td>206663.750000</td>\n",
       "      <td>4.000000</td>\n",
       "      <td>1.000000</td>\n",
       "      <td>1.000000</td>\n",
       "      <td>199390.450000</td>\n",
       "      <td>1.000000</td>\n",
       "    </tr>\n",
       "  </tbody>\n",
       "</table>\n",
       "</div>"
      ],
      "text/plain": [
       "       credit_score         age  tenure        balance  num_of_products  \\\n",
       "count    909.000000  909.000000     0.0     909.000000       909.000000   \n",
       "mean     648.451045   38.647965     NaN   76117.341474         1.530253   \n",
       "std       99.079381    9.785438     NaN   63105.690715         0.588452   \n",
       "min      359.000000   18.000000     NaN       0.000000         1.000000   \n",
       "25%      580.000000   32.000000     NaN       0.000000         1.000000   \n",
       "50%      647.000000   37.000000     NaN   96674.550000         1.000000   \n",
       "75%      718.000000   43.000000     NaN  128554.980000         2.000000   \n",
       "max      850.000000   92.000000     NaN  206663.750000         4.000000   \n",
       "\n",
       "       has_cr_card  is_active_member  estimated_salary      exited  \n",
       "count   909.000000        909.000000        909.000000  909.000000  \n",
       "mean      0.710671          0.510451      99180.389373    0.201320  \n",
       "std       0.453701          0.500166      56378.063765    0.401207  \n",
       "min       0.000000          0.000000        106.670000    0.000000  \n",
       "25%       0.000000          0.000000      49872.330000    0.000000  \n",
       "50%       1.000000          1.000000      99444.020000    0.000000  \n",
       "75%       1.000000          1.000000     145759.700000    0.000000  \n",
       "max       1.000000          1.000000     199390.450000    1.000000  "
      ]
     },
     "execution_count": 9,
     "metadata": {},
     "output_type": "execute_result"
    }
   ],
   "source": [
    "df_tenure_isna = df[(df['tenure'].isna())]\n",
    "df_tenure_isna.describe()"
   ]
  },
  {
   "cell_type": "code",
   "execution_count": 10,
   "metadata": {
    "scrolled": false
   },
   "outputs": [
    {
     "data": {
      "text/html": [
       "<div>\n",
       "<style scoped>\n",
       "    .dataframe tbody tr th:only-of-type {\n",
       "        vertical-align: middle;\n",
       "    }\n",
       "\n",
       "    .dataframe tbody tr th {\n",
       "        vertical-align: top;\n",
       "    }\n",
       "\n",
       "    .dataframe thead th {\n",
       "        text-align: right;\n",
       "    }\n",
       "</style>\n",
       "<table border=\"1\" class=\"dataframe\">\n",
       "  <thead>\n",
       "    <tr style=\"text-align: right;\">\n",
       "      <th></th>\n",
       "      <th>credit_score</th>\n",
       "      <th>age</th>\n",
       "      <th>tenure</th>\n",
       "      <th>balance</th>\n",
       "      <th>num_of_products</th>\n",
       "      <th>has_cr_card</th>\n",
       "      <th>is_active_member</th>\n",
       "      <th>estimated_salary</th>\n",
       "      <th>exited</th>\n",
       "    </tr>\n",
       "  </thead>\n",
       "  <tbody>\n",
       "    <tr>\n",
       "      <th>count</th>\n",
       "      <td>10000.000000</td>\n",
       "      <td>10000.000000</td>\n",
       "      <td>9091.000000</td>\n",
       "      <td>10000.000000</td>\n",
       "      <td>10000.000000</td>\n",
       "      <td>10000.00000</td>\n",
       "      <td>10000.000000</td>\n",
       "      <td>10000.000000</td>\n",
       "      <td>10000.000000</td>\n",
       "    </tr>\n",
       "    <tr>\n",
       "      <th>mean</th>\n",
       "      <td>650.528800</td>\n",
       "      <td>38.921800</td>\n",
       "      <td>4.997690</td>\n",
       "      <td>76485.889288</td>\n",
       "      <td>1.530200</td>\n",
       "      <td>0.70550</td>\n",
       "      <td>0.515100</td>\n",
       "      <td>100090.239881</td>\n",
       "      <td>0.203700</td>\n",
       "    </tr>\n",
       "    <tr>\n",
       "      <th>std</th>\n",
       "      <td>96.653299</td>\n",
       "      <td>10.487806</td>\n",
       "      <td>2.894723</td>\n",
       "      <td>62397.405202</td>\n",
       "      <td>0.581654</td>\n",
       "      <td>0.45584</td>\n",
       "      <td>0.499797</td>\n",
       "      <td>57510.492818</td>\n",
       "      <td>0.402769</td>\n",
       "    </tr>\n",
       "    <tr>\n",
       "      <th>min</th>\n",
       "      <td>350.000000</td>\n",
       "      <td>18.000000</td>\n",
       "      <td>0.000000</td>\n",
       "      <td>0.000000</td>\n",
       "      <td>1.000000</td>\n",
       "      <td>0.00000</td>\n",
       "      <td>0.000000</td>\n",
       "      <td>11.580000</td>\n",
       "      <td>0.000000</td>\n",
       "    </tr>\n",
       "    <tr>\n",
       "      <th>25%</th>\n",
       "      <td>584.000000</td>\n",
       "      <td>32.000000</td>\n",
       "      <td>2.000000</td>\n",
       "      <td>0.000000</td>\n",
       "      <td>1.000000</td>\n",
       "      <td>0.00000</td>\n",
       "      <td>0.000000</td>\n",
       "      <td>51002.110000</td>\n",
       "      <td>0.000000</td>\n",
       "    </tr>\n",
       "    <tr>\n",
       "      <th>50%</th>\n",
       "      <td>652.000000</td>\n",
       "      <td>37.000000</td>\n",
       "      <td>5.000000</td>\n",
       "      <td>97198.540000</td>\n",
       "      <td>1.000000</td>\n",
       "      <td>1.00000</td>\n",
       "      <td>1.000000</td>\n",
       "      <td>100193.915000</td>\n",
       "      <td>0.000000</td>\n",
       "    </tr>\n",
       "    <tr>\n",
       "      <th>75%</th>\n",
       "      <td>718.000000</td>\n",
       "      <td>44.000000</td>\n",
       "      <td>7.000000</td>\n",
       "      <td>127644.240000</td>\n",
       "      <td>2.000000</td>\n",
       "      <td>1.00000</td>\n",
       "      <td>1.000000</td>\n",
       "      <td>149388.247500</td>\n",
       "      <td>0.000000</td>\n",
       "    </tr>\n",
       "    <tr>\n",
       "      <th>max</th>\n",
       "      <td>850.000000</td>\n",
       "      <td>92.000000</td>\n",
       "      <td>10.000000</td>\n",
       "      <td>250898.090000</td>\n",
       "      <td>4.000000</td>\n",
       "      <td>1.00000</td>\n",
       "      <td>1.000000</td>\n",
       "      <td>199992.480000</td>\n",
       "      <td>1.000000</td>\n",
       "    </tr>\n",
       "  </tbody>\n",
       "</table>\n",
       "</div>"
      ],
      "text/plain": [
       "       credit_score           age       tenure        balance  \\\n",
       "count  10000.000000  10000.000000  9091.000000   10000.000000   \n",
       "mean     650.528800     38.921800     4.997690   76485.889288   \n",
       "std       96.653299     10.487806     2.894723   62397.405202   \n",
       "min      350.000000     18.000000     0.000000       0.000000   \n",
       "25%      584.000000     32.000000     2.000000       0.000000   \n",
       "50%      652.000000     37.000000     5.000000   97198.540000   \n",
       "75%      718.000000     44.000000     7.000000  127644.240000   \n",
       "max      850.000000     92.000000    10.000000  250898.090000   \n",
       "\n",
       "       num_of_products  has_cr_card  is_active_member  estimated_salary  \\\n",
       "count     10000.000000  10000.00000      10000.000000      10000.000000   \n",
       "mean          1.530200      0.70550          0.515100     100090.239881   \n",
       "std           0.581654      0.45584          0.499797      57510.492818   \n",
       "min           1.000000      0.00000          0.000000         11.580000   \n",
       "25%           1.000000      0.00000          0.000000      51002.110000   \n",
       "50%           1.000000      1.00000          1.000000     100193.915000   \n",
       "75%           2.000000      1.00000          1.000000     149388.247500   \n",
       "max           4.000000      1.00000          1.000000     199992.480000   \n",
       "\n",
       "             exited  \n",
       "count  10000.000000  \n",
       "mean       0.203700  \n",
       "std        0.402769  \n",
       "min        0.000000  \n",
       "25%        0.000000  \n",
       "50%        0.000000  \n",
       "75%        0.000000  \n",
       "max        1.000000  "
      ]
     },
     "execution_count": 10,
     "metadata": {},
     "output_type": "execute_result"
    }
   ],
   "source": [
    "df.describe()"
   ]
  },
  {
   "cell_type": "code",
   "execution_count": 11,
   "metadata": {},
   "outputs": [
    {
     "data": {
      "text/plain": [
       "'2.00%'"
      ]
     },
     "execution_count": 11,
     "metadata": {},
     "output_type": "execute_result"
    }
   ],
   "source": [
    "f\"{df['tenure'].isna().sum() / df['tenure'].sum():.2%}\""
   ]
  },
  {
   "cell_type": "code",
   "execution_count": 14,
   "metadata": {},
   "outputs": [
    {
     "data": {
      "text/plain": [
       "'9.09%'"
      ]
     },
     "execution_count": 14,
     "metadata": {},
     "output_type": "execute_result"
    }
   ],
   "source": [
    "f\"{df['tenure'].isna().sum() / len(df['tenure']):.2%}\""
   ]
  },
  {
   "cell_type": "markdown",
   "metadata": {},
   "source": [
    "В целом, каких-либо значимых отличий (выбросов) нет. Решаю удалить эти данные, т.к. доля маленькая:"
   ]
  },
  {
   "cell_type": "code",
   "execution_count": 10,
   "metadata": {},
   "outputs": [
    {
     "name": "stdout",
     "output_type": "stream",
     "text": [
      "(9091, 11)\n"
     ]
    }
   ],
   "source": [
    "df = df.dropna()\n",
    "print(df.shape)"
   ]
  },
  {
   "cell_type": "markdown",
   "metadata": {},
   "source": [
    "Немного поисследую данные:"
   ]
  },
  {
   "cell_type": "code",
   "execution_count": 11,
   "metadata": {},
   "outputs": [
    {
     "data": {
      "text/plain": [
       "0"
      ]
     },
     "execution_count": 11,
     "metadata": {},
     "output_type": "execute_result"
    }
   ],
   "source": [
    "#дубликаты\n",
    "df.duplicated().sum()"
   ]
  },
  {
   "cell_type": "code",
   "execution_count": 12,
   "metadata": {},
   "outputs": [
    {
     "data": {
      "text/plain": [
       "array(['France', 'Spain', 'Germany'], dtype=object)"
      ]
     },
     "execution_count": 12,
     "metadata": {},
     "output_type": "execute_result"
    }
   ],
   "source": [
    "#страны\n",
    "df['geography'].unique()"
   ]
  },
  {
   "cell_type": "code",
   "execution_count": 13,
   "metadata": {},
   "outputs": [
    {
     "name": "stdout",
     "output_type": "stream",
     "text": [
      "['Female' 'Male']\n"
     ]
    }
   ],
   "source": [
    "#пол\n",
    "print(df['gender'].unique())"
   ]
  },
  {
   "cell_type": "code",
   "execution_count": 14,
   "metadata": {},
   "outputs": [
    {
     "data": {
      "text/plain": [
       "(9091, 12)"
      ]
     },
     "execution_count": 14,
     "metadata": {},
     "output_type": "execute_result"
    }
   ],
   "source": [
    "#используем OHE для категориальных признаков\n",
    "df = pd.get_dummies(df, columns=['geography', 'gender'], drop_first=True)\n",
    "df.shape"
   ]
  },
  {
   "cell_type": "code",
   "execution_count": 15,
   "metadata": {},
   "outputs": [],
   "source": [
    "target = df['exited']\n",
    "features = df.drop(['exited'], axis=1)"
   ]
  },
  {
   "cell_type": "markdown",
   "metadata": {},
   "source": [
    "Разделение на выборки:"
   ]
  },
  {
   "cell_type": "code",
   "execution_count": 16,
   "metadata": {},
   "outputs": [],
   "source": [
    "# выделение тренировочной выборки\n",
    "features_train, features_val_test, target_train, target_val_test = train_test_split(\n",
    "    features, target, train_size=0.60, stratify=target, random_state=1234)\n",
    "\n",
    "# выделение валидационной и тестовой выборок\n",
    "features_valid, features_test, target_valid, target_test = train_test_split(\n",
    "    features_val_test, target_val_test, test_size=0.50, stratify=target_val_test, random_state=1234)"
   ]
  },
  {
   "cell_type": "code",
   "execution_count": 17,
   "metadata": {},
   "outputs": [
    {
     "data": {
      "text/plain": [
       "(5454, 11)"
      ]
     },
     "metadata": {},
     "output_type": "display_data"
    },
    {
     "data": {
      "text/plain": [
       "(1818, 11)"
      ]
     },
     "metadata": {},
     "output_type": "display_data"
    },
    {
     "data": {
      "text/plain": [
       "(1819, 11)"
      ]
     },
     "metadata": {},
     "output_type": "display_data"
    }
   ],
   "source": [
    "#проверяем соотношение\n",
    "display(features_train.shape)\n",
    "display(features_valid.shape)\n",
    "display(features_test.shape)"
   ]
  },
  {
   "cell_type": "code",
   "execution_count": 18,
   "metadata": {
    "scrolled": true
   },
   "outputs": [
    {
     "name": "stderr",
     "output_type": "stream",
     "text": [
      "/tmp/ipykernel_238/914473953.py:6: SettingWithCopyWarning: \n",
      "A value is trying to be set on a copy of a slice from a DataFrame.\n",
      "Try using .loc[row_indexer,col_indexer] = value instead\n",
      "\n",
      "See the caveats in the documentation: https://pandas.pydata.org/pandas-docs/stable/user_guide/indexing.html#returning-a-view-versus-a-copy\n",
      "  sample[numeric] = scaler.transform(sample[numeric])\n",
      "/opt/conda/lib/python3.9/site-packages/pandas/core/indexing.py:1738: SettingWithCopyWarning: \n",
      "A value is trying to be set on a copy of a slice from a DataFrame.\n",
      "Try using .loc[row_indexer,col_indexer] = value instead\n",
      "\n",
      "See the caveats in the documentation: https://pandas.pydata.org/pandas-docs/stable/user_guide/indexing.html#returning-a-view-versus-a-copy\n",
      "  self._setitem_single_column(loc, value[:, i].tolist(), pi)\n",
      "/tmp/ipykernel_238/914473953.py:6: SettingWithCopyWarning: \n",
      "A value is trying to be set on a copy of a slice from a DataFrame.\n",
      "Try using .loc[row_indexer,col_indexer] = value instead\n",
      "\n",
      "See the caveats in the documentation: https://pandas.pydata.org/pandas-docs/stable/user_guide/indexing.html#returning-a-view-versus-a-copy\n",
      "  sample[numeric] = scaler.transform(sample[numeric])\n",
      "/opt/conda/lib/python3.9/site-packages/pandas/core/indexing.py:1738: SettingWithCopyWarning: \n",
      "A value is trying to be set on a copy of a slice from a DataFrame.\n",
      "Try using .loc[row_indexer,col_indexer] = value instead\n",
      "\n",
      "See the caveats in the documentation: https://pandas.pydata.org/pandas-docs/stable/user_guide/indexing.html#returning-a-view-versus-a-copy\n",
      "  self._setitem_single_column(loc, value[:, i].tolist(), pi)\n",
      "/tmp/ipykernel_238/914473953.py:6: SettingWithCopyWarning: \n",
      "A value is trying to be set on a copy of a slice from a DataFrame.\n",
      "Try using .loc[row_indexer,col_indexer] = value instead\n",
      "\n",
      "See the caveats in the documentation: https://pandas.pydata.org/pandas-docs/stable/user_guide/indexing.html#returning-a-view-versus-a-copy\n",
      "  sample[numeric] = scaler.transform(sample[numeric])\n",
      "/opt/conda/lib/python3.9/site-packages/pandas/core/indexing.py:1738: SettingWithCopyWarning: \n",
      "A value is trying to be set on a copy of a slice from a DataFrame.\n",
      "Try using .loc[row_indexer,col_indexer] = value instead\n",
      "\n",
      "See the caveats in the documentation: https://pandas.pydata.org/pandas-docs/stable/user_guide/indexing.html#returning-a-view-versus-a-copy\n",
      "  self._setitem_single_column(loc, value[:, i].tolist(), pi)\n"
     ]
    }
   ],
   "source": [
    "numeric = ['credit_score', 'age', 'tenure', 'balance', 'num_of_products', 'estimated_salary']\n",
    "\n",
    "scaler = StandardScaler()\n",
    "scaler.fit(features_train[numeric])\n",
    "for sample in [features_train, features_valid, features_test]:\n",
    "    sample[numeric] = scaler.transform(sample[numeric])"
   ]
  },
  {
   "cell_type": "markdown",
   "metadata": {},
   "source": [
    "<div class=\"alert alert-warning\">\n",
    "<b>Комментарий 👉</b>\n",
    "\n",
    "Последовательность команд (это **псевдокод**): \n",
    "    \n",
    "    1. scaler = StandardScaler()\n",
    "    2. scaler.fit(X_train) \n",
    "    3. X_train_st = scaler.transform(X_train) \n",
    "    \n",
    "можно было записать так:\n",
    "    \n",
    "     1. scaler = StandardScaler()\n",
    "     2. X_train_st = scaler.fit_transform(X_train)\n",
    "\n",
    "p.s. но это **только** для тренировочной выборки!    \n",
    "</div>\n"
   ]
  },
  {
   "cell_type": "code",
   "execution_count": 19,
   "metadata": {},
   "outputs": [
    {
     "data": {
      "image/png": "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\n",
      "text/plain": [
       "<Figure size 360x360 with 1 Axes>"
      ]
     },
     "metadata": {
      "needs_background": "light"
     },
     "output_type": "display_data"
    }
   ],
   "source": [
    "sns.catplot(x='exited', data=df, kind='count', orient='h')\n",
    "plt.title('Соотношение распределения классов')\n",
    "plt.show()"
   ]
  },
  {
   "cell_type": "code",
   "execution_count": null,
   "metadata": {},
   "outputs": [],
   "source": []
  },
  {
   "cell_type": "code",
   "execution_count": null,
   "metadata": {},
   "outputs": [],
   "source": []
  },
  {
   "cell_type": "markdown",
   "metadata": {},
   "source": [
    "**Вывод**\n",
    "\n",
    "Данные о 10000 клиентах из Франции, Германии и Испании, не содержат явных дубликатов.\n",
    "\n",
    "В датасете явный дисбаланс - 1 к 4 ушедших клиентов.\n",
    "\n",
    "Преобразовали таблицу:\n",
    "-    изменили названия столбцов на строчные\n",
    "-    удалили столбцы, невлияющие на анализ (3)\n",
    "-    удалили строки с пропусками (2%, )\n",
    "-    перевели категориальные признаки в численные методом OHE \n",
    "-   масштабировали количественные признаки\n",
    "    \n",
    "Разделили таблицу на выборки:\n",
    "\n",
    "Обучающая - features_train,target_train\n",
    "\n",
    "Валидационная - features_valid,target_valid\n",
    "\n",
    "Тестовая - features_test,target_test"
   ]
  },
  {
   "cell_type": "markdown",
   "metadata": {},
   "source": [
    "## Исследование задачи"
   ]
  },
  {
   "cell_type": "markdown",
   "metadata": {},
   "source": [
    "Задача относится к бинарной классификации. Значит, подходят три типа моделей:\n",
    "\n",
    "- Логистическая регрессия\n",
    "- Решающее дерево\n",
    "- Случайный лес"
   ]
  },
  {
   "cell_type": "code",
   "execution_count": 20,
   "metadata": {},
   "outputs": [],
   "source": [
    "#функцию для  полноты, точности и F1-меры\n",
    "def rpf1(target_valid, prediction,probabilities_one_valid):\n",
    "    print(\"Полнота\" , recall_score(target_valid, prediction))\n",
    "    print(\"Точность\", precision_score(target_valid, prediction))\n",
    "    print(\"F1-мера\", f1_score(target_valid, prediction))\n",
    "    print(\"roc_auc\", roc_auc_score(target_valid, probabilities_one_valid))"
   ]
  },
  {
   "cell_type": "markdown",
   "metadata": {},
   "source": [
    "### Логистическая регрессия без учета дисбаланса"
   ]
  },
  {
   "cell_type": "code",
   "execution_count": 21,
   "metadata": {},
   "outputs": [
    {
     "name": "stdout",
     "output_type": "stream",
     "text": [
      "0.2701612903225807 10\n",
      "Полнота 0.18059299191374664\n",
      "Точность 0.536\n",
      "F1-мера 0.2701612903225807\n",
      "roc_auc 0.7630025501222903\n"
     ]
    }
   ],
   "source": [
    "best_f1 = 0\n",
    "for iteration in range(10, 20, 2):  # подбор гиперпараметров в цикле\n",
    "    model = LogisticRegression(max_iter=iteration, solver='liblinear', random_state=12345) \n",
    "    model.fit(features_train, target_train)  # обучение модели\n",
    "    prediction = model.predict(features_valid)  # предсказание на валидационной выборке\n",
    "    f1_valid = f1_score(target_valid, prediction) \n",
    "    if f1_valid > best_f1:\n",
    "        best_f1 = f1_valid \n",
    "        best_iter = iteration \n",
    "        best_prediction_valid = prediction\n",
    "        model_LR = model\n",
    "print(best_f1, best_iter)\n",
    "\n",
    "probabilities_one_valid = model_LR.predict_proba(features_valid)[:, 1]\n",
    "\n",
    "\n",
    "rpf1(target_valid, prediction,probabilities_one_valid)\n",
    "initial = [best_f1.round(3)]\n"
   ]
  },
  {
   "cell_type": "code",
   "execution_count": 22,
   "metadata": {},
   "outputs": [
    {
     "name": "stdout",
     "output_type": "stream",
     "text": [
      "[0.27]\n"
     ]
    }
   ],
   "source": [
    "initial = [best_f1.round(3)]\n",
    "print(initial)"
   ]
  },
  {
   "cell_type": "markdown",
   "metadata": {},
   "source": [
    "### Решающее дерево без учета дисбаланса"
   ]
  },
  {
   "cell_type": "code",
   "execution_count": 23,
   "metadata": {},
   "outputs": [
    {
     "name": "stdout",
     "output_type": "stream",
     "text": [
      "0.5058236272878536 2\n",
      "0.5181518151815181 3\n",
      "0.4384615384615385 4\n",
      "0.45660377358490567 5\n",
      "0.5238095238095237 6\n",
      "0.536115569823435 7\n",
      "0.5125628140703518 8\n",
      "0.5147286821705427 9\n",
      "0.504885993485342 10\n",
      "0.536115569823435 7\n",
      "Полнота 0.4501347708894879\n",
      "Точность 0.6626984126984127\n",
      "F1-мера 0.536115569823435\n",
      "roc_auc 0.8077088576234499\n"
     ]
    }
   ],
   "source": [
    "best_f1 = 0\n",
    "best_depth = 0\n",
    "for depth in range(2, 11):\n",
    "    model = DecisionTreeClassifier(max_depth=depth, random_state=12345)\n",
    "    model.fit(features_train, target_train)\n",
    "    prediction = model.predict(features_valid)\n",
    "    f1_valid = f1_score(target_valid, prediction)\n",
    "    print(f1_valid, depth)\n",
    "    if f1_valid > best_f1:\n",
    "        best_f1 = f1_valid\n",
    "        best_depth = depth\n",
    "        model_DT = model\n",
    "        best_prediction_valid = prediction\n",
    "        \n",
    "print(best_f1,best_depth)        \n",
    "probabilities_one_valid = model_DT.predict_proba(features_valid)[:, 1]\n",
    "\n",
    "rpf1(target_valid, best_prediction_valid,probabilities_one_valid)\n",
    "initial.append(best_f1.round(3))\n"
   ]
  },
  {
   "cell_type": "markdown",
   "metadata": {},
   "source": [
    "### Случайный лес без учета дисбаланса"
   ]
  },
  {
   "cell_type": "code",
   "execution_count": 24,
   "metadata": {},
   "outputs": [
    {
     "name": "stdout",
     "output_type": "stream",
     "text": [
      "0.7959295929592959 1\n",
      "0.8074807480748075 2\n",
      "0.812981298129813 3\n",
      "0.8415841584158416 4\n",
      "0.8415841584158416 5\n",
      "0.8421342134213421 6\n",
      "0.8426842684268426 7\n",
      "0.8454345434543454 8\n",
      "0.8432343234323433 9\n"
     ]
    }
   ],
   "source": [
    "#cначала подберем глубину при малом количестве деревьев\n",
    "for depth in range(1, 10, 1):\n",
    "    model = RandomForestClassifier(n_estimators=20, max_depth=depth, random_state=12345)\n",
    "    model.fit(features_train, target_train)\n",
    "    print(model.score(features_valid, target_valid),depth)"
   ]
  },
  {
   "cell_type": "code",
   "execution_count": 25,
   "metadata": {},
   "outputs": [
    {
     "data": {
      "application/vnd.jupyter.widget-view+json": {
       "model_id": "1bce6def6b88465f9f9a9d71785c9a21",
       "version_major": 2,
       "version_minor": 0
      },
      "text/plain": [
       "  0%|          | 0/10 [00:00<?, ?it/s]"
      ]
     },
     "metadata": {},
     "output_type": "display_data"
    },
    {
     "name": "stdout",
     "output_type": "stream",
     "text": [
      "\n",
      "\n",
      "\n",
      "\n",
      "\n",
      "\n",
      "\n",
      "\n",
      "\n",
      "\n",
      "0.5356521739130435 40\n",
      "Полнота 0.41509433962264153\n",
      "Точность 0.7549019607843137\n",
      "F1-мера 0.5356521739130435\n",
      "roc_auc 0.85359243122214\n"
     ]
    }
   ],
   "source": [
    "best_f1 = 0\n",
    "for est in tqdm(range(10, 101, 10)):\n",
    "    model = RandomForestClassifier(max_depth=10, n_estimators=est, random_state=12345)\n",
    "    model.fit(features_train, target_train)\n",
    "    prediction = model.predict(features_valid)\n",
    "    f1_valid = f1_score(target_valid, prediction) \n",
    "    print()\n",
    "    if f1_valid > best_f1:\n",
    "        best_f1 = f1_valid\n",
    "        best_est = est\n",
    "        best_prediction_valid = prediction\n",
    "        model_RF = model\n",
    "\n",
    "print(best_f1,best_est)        \n",
    "probabilities_one_valid = model_RF.predict_proba(features_valid)[:, 1]\n",
    "\n",
    "rpf1(target_valid, best_prediction_valid,probabilities_one_valid)\n",
    "initial.append(best_f1.round(3))"
   ]
  },
  {
   "cell_type": "code",
   "execution_count": 26,
   "metadata": {},
   "outputs": [
    {
     "name": "stdout",
     "output_type": "stream",
     "text": [
      "[0.27, 0.536, 0.536]\n"
     ]
    }
   ],
   "source": [
    "print(initial)"
   ]
  },
  {
   "cell_type": "markdown",
   "metadata": {},
   "source": [
    "**Вывод**\n",
    "\n",
    "Пробовали обучить 3 модели без учета дисбаланса в данных, лучше всего справились решающее дерево и случайный лес (F1 = 0.53611 и 0.53565 соответственно)"
   ]
  },
  {
   "cell_type": "markdown",
   "metadata": {},
   "source": [
    "## Борьба с дисбалансом\n",
    "\n",
    "Попробуем следующие методы борьбы с дисбалансом:\n",
    "\n",
    "- Взвешивание классов\n",
    "- Увеличение выборки (upsampling)\n",
    "- Уменьшение выборки (downsampling)"
   ]
  },
  {
   "cell_type": "markdown",
   "metadata": {},
   "source": [
    "### Взвешивание классов"
   ]
  },
  {
   "cell_type": "markdown",
   "metadata": {},
   "source": [
    "#### Логистическая регрессия"
   ]
  },
  {
   "cell_type": "code",
   "execution_count": 27,
   "metadata": {},
   "outputs": [
    {
     "name": "stdout",
     "output_type": "stream",
     "text": [
      "Полнота 0.6469002695417789\n",
      "Точность 0.3902439024390244\n",
      "F1-мера 0.486815415821501\n",
      "roc_auc 0.7676836730702242\n"
     ]
    }
   ],
   "source": [
    "model = LogisticRegression(max_iter=10, solver='liblinear',class_weight='balanced', random_state=12345) \n",
    "model.fit(features_train, target_train)  # обучение модели\n",
    "prediction = model.predict(features_valid)  # предсказание на валидационной выборке    \n",
    "probabilities_one_valid = model.predict_proba(features_valid)[:, 1]\n",
    "\n",
    "\n",
    "rpf1(target_valid, prediction,probabilities_one_valid)\n",
    "\n",
    "balanced = [f1_score(target_valid, prediction).round(3) ]"
   ]
  },
  {
   "cell_type": "markdown",
   "metadata": {},
   "source": [
    "#### Решающее дерево"
   ]
  },
  {
   "cell_type": "code",
   "execution_count": 28,
   "metadata": {},
   "outputs": [
    {
     "name": "stdout",
     "output_type": "stream",
     "text": [
      "Полнота 0.6684636118598383\n",
      "Точность 0.49500998003992014\n",
      "F1-мера 0.5688073394495413\n",
      "roc_auc 0.8091133807841114\n"
     ]
    }
   ],
   "source": [
    "# используем гиперпараметры подобранные ранее \n",
    "model = DecisionTreeClassifier(max_depth=7, random_state=12345,class_weight='balanced')\n",
    "model.fit(features_train, target_train)\n",
    "prediction = model.predict(features_valid)\n",
    "        \n",
    "probabilities_one_valid = model.predict_proba(features_valid)[:, 1]\n",
    "\n",
    "rpf1(target_valid, prediction,probabilities_one_valid)\n",
    "\n",
    "\n",
    "balanced.append(f1_score(target_valid, prediction).round(3))"
   ]
  },
  {
   "cell_type": "markdown",
   "metadata": {},
   "source": [
    "#### Случайный лес"
   ]
  },
  {
   "cell_type": "code",
   "execution_count": 29,
   "metadata": {},
   "outputs": [
    {
     "name": "stdout",
     "output_type": "stream",
     "text": [
      "Полнота 0.5983827493261455\n",
      "Точность 0.5935828877005348\n",
      "F1-мера 0.595973154362416\n",
      "roc_auc 0.8552987219584343\n"
     ]
    }
   ],
   "source": [
    "model = RandomForestClassifier(max_depth=9, n_estimators=100, random_state=12345,class_weight='balanced')\n",
    "model.fit(features_train, target_train)\n",
    "prediction = model.predict(features_valid)\n",
    "\n",
    "       \n",
    "probabilities_one_valid = model.predict_proba(features_valid)[:, 1]\n",
    "\n",
    "rpf1(target_valid, prediction,probabilities_one_valid)\n",
    "\n",
    "balanced.append(f1_score(target_valid, prediction).round(3))"
   ]
  },
  {
   "cell_type": "code",
   "execution_count": 30,
   "metadata": {},
   "outputs": [
    {
     "name": "stdout",
     "output_type": "stream",
     "text": [
      "[0.487, 0.569, 0.596]\n"
     ]
    }
   ],
   "source": [
    "print(balanced)"
   ]
  },
  {
   "cell_type": "markdown",
   "metadata": {},
   "source": [
    "### Увеличение выборки (upsampling)"
   ]
  },
  {
   "cell_type": "code",
   "execution_count": 31,
   "metadata": {},
   "outputs": [],
   "source": [
    "def upsample(features, target, repeat):\n",
    "    features_zeros = features[target == 0]\n",
    "    features_ones = features[target == 1]\n",
    "    target_zeros = target[target == 0]\n",
    "    target_ones = target[target == 1]\n",
    "\n",
    "    features_upsampled = pd.concat([features_zeros] + [features_ones] * repeat)\n",
    "    target_upsampled = pd.concat([target_zeros] + [target_ones] * repeat)\n",
    "    \n",
    "    features_upsampled, target_upsampled = shuffle(\n",
    "        features_upsampled, target_upsampled, random_state=12345)\n",
    "    \n",
    "    return features_upsampled, target_upsampled\n",
    "\n",
    "features_upsampled, target_upsampled = upsample(features_train, target_train, 4)\n"
   ]
  },
  {
   "cell_type": "markdown",
   "metadata": {},
   "source": [
    "#### Логистическая регрессия"
   ]
  },
  {
   "cell_type": "code",
   "execution_count": 32,
   "metadata": {},
   "outputs": [
    {
     "name": "stdout",
     "output_type": "stream",
     "text": [
      "Полнота 0.6522911051212938\n",
      "Точность 0.3872\n",
      "F1-мера 0.48594377510040165\n",
      "roc_auc 0.7676873985958493\n"
     ]
    }
   ],
   "source": [
    "model = LogisticRegression(max_iter=10, solver='liblinear', random_state=12345) \n",
    "model.fit(features_upsampled, target_upsampled)  # обучение модели\n",
    "prediction = model.predict(features_valid)  # предсказание на валидационной выборке    \n",
    "probabilities_one_valid = model.predict_proba(features_valid)[:, 1]\n",
    "\n",
    "\n",
    "rpf1(target_valid, prediction,probabilities_one_valid)\n",
    "\n",
    "upsampling = [f1_score(target_valid, prediction).round(3) ]"
   ]
  },
  {
   "cell_type": "markdown",
   "metadata": {},
   "source": [
    "#### Решающее дерево"
   ]
  },
  {
   "cell_type": "code",
   "execution_count": 33,
   "metadata": {},
   "outputs": [
    {
     "name": "stdout",
     "output_type": "stream",
     "text": [
      "Полнота 0.6765498652291105\n",
      "Точность 0.4826923076923077\n",
      "F1-мера 0.5634118967452301\n",
      "roc_auc 0.8086858767186316\n"
     ]
    }
   ],
   "source": [
    "# используем гиперпараметры подобранные ранее\n",
    "model = DecisionTreeClassifier(max_depth=7, random_state=12345)\n",
    "model.fit(features_upsampled, target_upsampled)\n",
    "prediction = model.predict(features_valid)\n",
    "        \n",
    "probabilities_one_valid = model.predict_proba(features_valid)[:, 1]\n",
    "\n",
    "rpf1(target_valid, prediction,probabilities_one_valid)\n",
    "\n",
    "\n",
    "upsampling.append(f1_score(target_valid, prediction).round(3))"
   ]
  },
  {
   "cell_type": "markdown",
   "metadata": {},
   "source": [
    "#### Случайный лес"
   ]
  },
  {
   "cell_type": "code",
   "execution_count": 34,
   "metadata": {},
   "outputs": [
    {
     "name": "stdout",
     "output_type": "stream",
     "text": [
      "Полнота 0.6630727762803235\n",
      "Точность 0.5528089887640449\n",
      "F1-мера 0.6029411764705883\n",
      "roc_auc 0.8567703045803475\n"
     ]
    }
   ],
   "source": [
    "model = RandomForestClassifier(max_depth=9, n_estimators=100, random_state=12345)\n",
    "model.fit(features_upsampled, target_upsampled)\n",
    "prediction = model.predict(features_valid)\n",
    "\n",
    "       \n",
    "probabilities_one_valid = model.predict_proba(features_valid)[:, 1]\n",
    "\n",
    "rpf1(target_valid, prediction,probabilities_one_valid)\n",
    "\n",
    "upsampling.append(f1_score(target_valid, prediction).round(3))"
   ]
  },
  {
   "cell_type": "code",
   "execution_count": 35,
   "metadata": {},
   "outputs": [
    {
     "name": "stdout",
     "output_type": "stream",
     "text": [
      "[0.486, 0.563, 0.603]\n"
     ]
    }
   ],
   "source": [
    "print(upsampling)"
   ]
  },
  {
   "cell_type": "markdown",
   "metadata": {},
   "source": [
    "### Уменьшение выборки (downsampling)"
   ]
  },
  {
   "cell_type": "code",
   "execution_count": 36,
   "metadata": {},
   "outputs": [],
   "source": [
    "def downsample(features, target, fraction):\n",
    "    features_zeros = features[target == 0]\n",
    "    features_ones = features[target == 1]\n",
    "    target_zeros = target[target == 0]\n",
    "    target_ones = target[target == 1]\n",
    "\n",
    "    features_downsampled = pd.concat(\n",
    "        [features_zeros.sample(frac=fraction, random_state=12345)] + [features_ones])\n",
    "    target_downsampled = pd.concat(\n",
    "        [target_zeros.sample(frac=fraction, random_state=12345)] + [target_ones])\n",
    "    \n",
    "    features_downsampled, target_downsampled = shuffle(\n",
    "        features_downsampled, target_downsampled, random_state=12345)\n",
    "    \n",
    "    return features_downsampled, target_downsampled\n",
    "\n",
    "features_downsampled, target_downsampled = downsample(features_train, target_train, 0.25)"
   ]
  },
  {
   "cell_type": "markdown",
   "metadata": {},
   "source": [
    "#### Логистическая регрессия"
   ]
  },
  {
   "cell_type": "code",
   "execution_count": 37,
   "metadata": {},
   "outputs": [
    {
     "name": "stdout",
     "output_type": "stream",
     "text": [
      "Полнота 0.6738544474393531\n",
      "Точность 0.39184952978056425\n",
      "F1-мера 0.49554013875123887\n",
      "roc_auc 0.7675663190130337\n"
     ]
    }
   ],
   "source": [
    "model = LogisticRegression(max_iter=10, solver='liblinear', random_state=12345) \n",
    "model.fit(features_downsampled, target_downsampled)  # обучение модели\n",
    "prediction = model.predict(features_valid)  # предсказание на валидационной выборке    \n",
    "probabilities_one_valid = model.predict_proba(features_valid)[:, 1]\n",
    "\n",
    "\n",
    "rpf1(target_valid, prediction,probabilities_one_valid)\n",
    "\n",
    "downsampling = [f1_score(target_valid, prediction).round(3) ]"
   ]
  },
  {
   "cell_type": "markdown",
   "metadata": {},
   "source": [
    "#### Решающее дерево"
   ]
  },
  {
   "cell_type": "code",
   "execution_count": 38,
   "metadata": {},
   "outputs": [
    {
     "name": "stdout",
     "output_type": "stream",
     "text": [
      "Полнота 0.7169811320754716\n",
      "Точность 0.433931484502447\n",
      "F1-мера 0.540650406504065\n",
      "roc_auc 0.8105784437361806\n"
     ]
    }
   ],
   "source": [
    "# используем гиперпараметры подобранные ранее\n",
    "model = DecisionTreeClassifier(max_depth=7, random_state=12345)\n",
    "model.fit(features_downsampled, target_downsampled)\n",
    "prediction = model.predict(features_valid)\n",
    "        \n",
    "probabilities_one_valid = model.predict_proba(features_valid)[:, 1]\n",
    "\n",
    "rpf1(target_valid, prediction,probabilities_one_valid)\n",
    "\n",
    "\n",
    "downsampling.append(f1_score(target_valid, prediction).round(3))"
   ]
  },
  {
   "cell_type": "markdown",
   "metadata": {},
   "source": [
    "#### Случайный лес"
   ]
  },
  {
   "cell_type": "code",
   "execution_count": 39,
   "metadata": {},
   "outputs": [
    {
     "name": "stdout",
     "output_type": "stream",
     "text": [
      "Полнота 0.7088948787061995\n",
      "Точность 0.4816849816849817\n",
      "F1-мера 0.5736095965103599\n",
      "roc_auc 0.8513068212511432\n"
     ]
    }
   ],

  },
  {
   "cell_type": "code",
   "execution_count": 40,
   "metadata": {},
   "outputs": [
    {
     "name": "stdout",
     "output_type": "stream",
     "text": [
      "[0.496, 0.541, 0.574]\n"
     ]
    }
   ],
   "source": [
    "print(downsampling)"
   ]
  },
  {
   "cell_type": "code",
   "execution_count": 41,
   "metadata": {
    "scrolled": true
   },
   "outputs": [
    {
     "name": "stdout",
     "output_type": "stream",
     "text": [
      "                         initial  balanced  upsampling  downsampling\n",
      "Логистическая регрессия    0.270     0.487       0.486         0.496\n",
      "Решающее дерево            0.536     0.569       0.563         0.541\n",
      "Случайный лес              0.536     0.596       0.603         0.574\n"
     ]
    }
   ],
   "source": [
    "ser1 = pd.Series(initial,index = ['Логистическая регрессия','Решающее дерево', 'Случайный лес']) \n",
    "ser2 = pd.Series(balanced,index = ['Логистическая регрессия','Решающее дерево', 'Случайный лес'])\n",
    "ser3 = pd.Series(upsampling,index = ['Логистическая регрессия','Решающее дерево', 'Случайный лес']) \n",
    "ser4 = pd.Series(downsampling,index = ['Логистическая регрессия','Решающее дерево', 'Случайный лес']) \n",
    "\n",
    "metrics = {\"initial\": ser1,\n",
    "        \"balanced\": ser2,\n",
    "       \"upsampling\": ser3,\n",
    "        \"downsampling\":ser4\n",
    "          }\n",
    "metrics = pd.concat(metrics,\n",
    "               axis = 1)\n",
    "print(metrics)"
   ]
  },
  {
   "cell_type": "markdown",
   "metadata": {},
   "source": [
    "**Вывод**\n",
    "\n",
    "С учетом дисбаланса показатели F1 у всех моделей улучшились. Больше всего мера изменилась у логистической регрессии (0.27 - 0.496) при использовании уменьшения выборки. Для решающего дерева и случайного леса больше подошло увеличение выборки. \n",
    "\n",
    "Для тестирования выбираем лучшую модель - случайный лес с увеличением выборки."
   ]
  },
  {
   "cell_type": "markdown",
   "metadata": {},
   "source": [
    "## Тестирование модели"
   ]
  },
  {
   "cell_type": "code",
   "execution_count": 42,
   "metadata": {},
   "outputs": [
    {
     "name": "stdout",
     "output_type": "stream",
     "text": [
      "Полнота 0.6549865229110512\n",
      "Точность 0.5985221674876847\n",
      "F1-мера 0.6254826254826255\n",
      "roc_auc 0.8530531935488675\n"
     ]
    }
   ],
   "source": [
    "model = RandomForestClassifier(max_depth=10, n_estimators=100, random_state=12345)\n",
    "model.fit(features_upsampled, target_upsampled)\n",
    "prediction = model.predict(features_test)\n",
    "\n",
    "       \n",
    "probabilities_one_test = model.predict_proba(features_test)[:, 1]\n",
    "\n",
    "rpf1(target_test, prediction,probabilities_one_test)\n"
   ]
  },
  {
   "cell_type": "code",
   "execution_count": 43,
   "metadata": {},
   "outputs": [
    {
     "data": {
      "image/png": "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\n",
      "text/plain": [
       "<Figure size 432x288 with 1 Axes>"
      ]
     },
     "metadata": {
      "needs_background": "light"
     },
     "output_type": "display_data"
    }
   ],
   "source": [
    "fpr, tpr, thresholds = roc_curve(target_test, probabilities_one_test) \n",
    "\n",
    "plt.figure()\n",
    "plt.plot(fpr, tpr, linestyle='solid')\n",
    "plt.plot([0, 1], [0, 1], linestyle='--')\n",
    "plt.xlim([0.0, 1.0])\n",
    "plt.ylim([0.0, 1.0])\n",
    "plt.xlabel('False Positive Rate')\n",
    "plt.ylabel('True Positive Rate')\n",
    "plt.title('ROC-кривая')\n",
    "plt.show()"
   ]
  },
  {
   "cell_type": "markdown",
   "metadata": {},
   "source": [
    "По ROC кривой можно увидеть, что у модели хорошее качество - на графике она выше случайной."
   ]
  },
  {
   "cell_type": "markdown",
   "metadata": {},
   "source": [
    "## Вывод"
   ]
  },
  {
   "cell_type": "markdown",
   "metadata": {},
   "source": [
    "- В работе рассмотрели 3 модели: логистическая регрессия, решающее дерево и случайный лес.\n",
    "- В данных наблюдался дисбаланс 1 к 4. \n",
    "- Попробовали исправить дисбаланс 3 методами : взвешивание классов, увеличением и уменьшением выборки.\n",
    "- Для каждого метода провели новое обучение, у всех моделей улучшился результат, по сравнению с обучением на первоначальных данных.\n",
    "|                        | Первоначальные  |Взвешивание классов  |Увеличение выборки  |Уменьшение выборки\n",
    "|------------------------|----------|----------|------------|------------\n",
    "|Логистическая регрессия |   0.270  |   0.487  |    0.486   |     0.496\n",
    "|Решающее дерево         |   0.536  |   0.569  |    0.563   |     0.541\n",
    "|Случайный лес           |   0.536  |   0.596  |    0.603   |     0.574\n",
    "\n",
    "- лучше всего показала себя модель случайного леса с увеличением выборки:  \n",
    "\n",
    "Полнота 0.6630727762803235  \n",
    "Точность 0.5528089887640449  \n",
    "F1-мера 0.6029411764705883  \n",
    "roc_auc 0.8567703045803475  \n",
    "\n",
    "\n",
    "- На тестовых данных финальная модель имеет слеюущие характеристики: \n",
    "\n",
    "Полнота 0.6549865229110512  \n",
    "Точность 0.5985221674876847  \n",
    "F1-мера 0.6254826254826255  \n",
    "roc_auc 0.8530531935488675    \n",
    "\n",
    "Т.е. финальная модель предскажет примерно 65% действительно уходящих клиентов, что выше чем случайная модель.F1-мера тоже выше граничного значения 0.59 для этого проекта."
   ]
  },
  {
   "cell_type": "markdown",
   "metadata": {},
   "source": [
    "## Чек-лист готовности проекта"
   ]
  },
  {
   "cell_type": "markdown",
   "metadata": {},
   "source": [
    "Поставьте 'x' в выполненных пунктах. Далее нажмите Shift+Enter."
   ]
  },
  {
   "cell_type": "markdown",
   "metadata": {},
   "source": [
    "- [x]  Jupyter Notebook открыт\n",
    "- [x]  Весь код выполняется без ошибок\n",
    "- [x]  Ячейки с кодом расположены в порядке исполнения\n",
    "- [x]  Выполнен шаг 1: данные подготовлены\n",
    "- [x]  Выполнен шаг 2: задача исследована\n",
    "    - [x]  Исследован баланс классов\n",
    "    - [x]  Изучены модели без учёта дисбаланса\n",
    "    - [x]  Написаны выводы по результатам исследования\n",
    "- [x]  Выполнен шаг 3: учтён дисбаланс\n",
    "    - [x]  Применено несколько способов борьбы с дисбалансом\n",
    "    - [x]  Написаны выводы по результатам исследования\n",
    "- [x]  Выполнен шаг 4: проведено тестирование\n",
    "- [x]  Удалось достичь *F1*-меры не менее 0.59\n",
    "- [x]  Исследована метрика *AUC-ROC*"
   ]
  }
 ],
 "metadata": {
  "ExecuteTimeLog": [
   {
    "duration": 100,
    "start_time": "2023-08-10T00:47:35.365Z"
   },
   {
    "duration": 1756,
    "start_time": "2023-08-10T00:47:41.027Z"
   },
   {
    "duration": 104,
    "start_time": "2023-08-10T00:47:42.785Z"
   },
   {
    "duration": 51,
    "start_time": "2023-08-10T00:47:42.890Z"
   },
   {
    "duration": 45,
    "start_time": "2023-08-10T19:26:19.987Z"
   },
   {
    "duration": 1438,
    "start_time": "2023-08-10T19:26:22.906Z"
   },
   {
    "duration": 80,
    "start_time": "2023-08-10T19:26:24.346Z"
   },
   {
    "duration": 14,
    "start_time": "2023-08-10T19:26:24.428Z"
   },
   {
    "duration": 30,
    "start_time": "2023-08-10T19:26:24.444Z"
   },
   {
    "duration": 7,
    "start_time": "2023-08-10T19:29:24.184Z"
   },
   {
    "duration": 77,
    "start_time": "2023-08-10T19:31:46.012Z"
   },
   {
    "duration": 6,
    "start_time": "2023-08-10T19:31:56.796Z"
   },
   {
    "duration": 12,
    "start_time": "2023-08-10T19:38:45.357Z"
   },
   {
    "duration": 4,
    "start_time": "2023-08-10T19:38:49.718Z"
   },
   {
    "duration": 38,
    "start_time": "2023-08-10T19:38:50.137Z"
   },
   {
    "duration": 15,
    "start_time": "2023-08-10T19:38:50.494Z"
   },
   {
    "duration": 11,
    "start_time": "2023-08-10T19:38:50.853Z"
   },
   {
    "duration": 6,
    "start_time": "2023-08-10T19:38:52.384Z"
   },
   {
    "duration": 3,
    "start_time": "2023-08-10T19:38:53.132Z"
   },
   {
    "duration": 813,
    "start_time": "2023-08-10T19:39:41.754Z"
   },
   {
    "duration": 4,
    "start_time": "2023-08-10T19:39:56.728Z"
   },
   {
    "duration": 88,
    "start_time": "2023-08-10T19:40:24.817Z"
   },
   {
    "duration": 11,
    "start_time": "2023-08-10T19:40:29.713Z"
   },
   {
    "duration": 9,
    "start_time": "2023-08-10T19:40:49.348Z"
   },
   {
    "duration": 3,
    "start_time": "2023-08-10T19:42:47.379Z"
   },
   {
    "duration": 4,
    "start_time": "2023-08-10T19:43:03.985Z"
   },
   {
    "duration": 643,
    "start_time": "2023-08-10T19:43:30.910Z"
   },
   {
    "duration": 29,
    "start_time": "2023-08-10T19:45:26.873Z"
   },
   {
    "duration": 27,
    "start_time": "2023-08-10T19:45:42.239Z"
   },
   {
    "duration": 2152,
    "start_time": "2023-08-11T21:54:54.826Z"
   },
   {
    "duration": 110,
    "start_time": "2023-08-11T21:54:56.980Z"
   },
   {
    "duration": 31,
    "start_time": "2023-08-11T21:54:57.093Z"
   },
   {
    "duration": 45,
    "start_time": "2023-08-11T21:54:57.126Z"
   },
   {
    "duration": 13,
    "start_time": "2023-08-11T22:02:04.097Z"
   },
   {
    "duration": 11,
    "start_time": "2023-08-11T22:02:15.201Z"
   },
   {
    "duration": 14,
    "start_time": "2023-08-11T22:02:17.308Z"
   },
   {
    "duration": 19,
    "start_time": "2023-08-11T22:02:20.628Z"
   },
   {
    "duration": 168,
    "start_time": "2023-08-11T22:02:29.365Z"
   },
   {
    "duration": 14,
    "start_time": "2023-08-11T22:02:46.479Z"
   },
   {
    "duration": 15,
    "start_time": "2023-08-11T22:04:25.561Z"
   },
   {
    "duration": 6,
    "start_time": "2023-08-11T22:06:13.135Z"
   },
   {
    "duration": 5,
    "start_time": "2023-08-11T22:06:17.690Z"
   },
   {
    "duration": 7,
    "start_time": "2023-08-11T22:06:35.754Z"
   },
   {
    "duration": 1124,
    "start_time": "2023-08-11T22:09:08.465Z"
   },
   {
    "duration": 6,
    "start_time": "2023-08-11T22:09:32.151Z"
   },
   {
    "duration": 1895,
    "start_time": "2023-08-11T22:09:51.743Z"
   },
   {
    "duration": 49,
    "start_time": "2023-08-11T22:09:53.641Z"
   },
   {
    "duration": 23,
    "start_time": "2023-08-11T22:09:53.692Z"
   },
   {
    "duration": 21,
    "start_time": "2023-08-11T22:09:53.718Z"
   },
   {
    "duration": 26,
    "start_time": "2023-08-11T22:09:53.741Z"
   },
   {
    "duration": 22,
    "start_time": "2023-08-11T22:09:53.769Z"
   },
   {
    "duration": 65,
    "start_time": "2023-08-11T22:09:53.793Z"
   },
   {
    "duration": 36,
    "start_time": "2023-08-11T22:09:53.861Z"
   },
   {
    "duration": 25,
    "start_time": "2023-08-11T22:09:53.901Z"
   },
   {
    "duration": 33,
    "start_time": "2023-08-11T22:09:53.929Z"
   },
   {
    "duration": 1591,
    "start_time": "2023-08-11T22:09:53.964Z"
   },
   {
    "duration": 0,
    "start_time": "2023-08-11T22:09:55.557Z"
   },
   {
    "duration": 11,
    "start_time": "2023-08-11T22:10:22.734Z"
   },
   {
    "duration": 8,
    "start_time": "2023-08-11T22:10:24.641Z"
   },
   {
    "duration": 6,
    "start_time": "2023-08-11T22:17:24.951Z"
   },
   {
    "duration": 28,
    "start_time": "2023-08-11T22:17:25.434Z"
   },
   {
    "duration": 32,
    "start_time": "2023-08-11T22:17:41.097Z"
   },
   {
    "duration": 12,
    "start_time": "2023-08-11T22:18:10.108Z"
   },
   {
    "duration": 7,
    "start_time": "2023-08-11T22:19:10.436Z"
   },
   {
    "duration": 5,
    "start_time": "2023-08-11T22:19:20.398Z"
   },
   {
    "duration": 7,
    "start_time": "2023-08-11T22:19:23.305Z"
   },
   {
    "duration": 8,
    "start_time": "2023-08-11T22:19:44.944Z"
   },
   {
    "duration": 8,
    "start_time": "2023-08-11T22:20:07.457Z"
   },
   {
    "duration": 15,
    "start_time": "2023-08-11T22:31:46.102Z"
   },
   {
    "duration": 53,
    "start_time": "2023-08-11T22:32:23.092Z"
   },
   {
    "duration": 363,
    "start_time": "2023-08-11T22:32:28.925Z"
   },
   {
    "duration": 21,
    "start_time": "2023-08-11T22:32:53.260Z"
   },
   {
    "duration": 315,
    "start_time": "2023-08-11T22:33:07.829Z"
   },
   {
    "duration": 4,
    "start_time": "2023-08-11T22:46:44.205Z"
   },
   {
    "duration": 25,
    "start_time": "2023-08-11T22:50:39.081Z"
   },
   {
    "duration": 7,
    "start_time": "2023-08-11T22:53:18.343Z"
   },
   {
    "duration": 32,
    "start_time": "2023-08-11T22:53:20.857Z"
   },
   {
    "duration": 8,
    "start_time": "2023-08-11T22:53:36.942Z"
   },
   {
    "duration": 47,
    "start_time": "2023-08-11T22:53:36.953Z"
   },
   {
    "duration": 16,
    "start_time": "2023-08-11T22:53:37.002Z"
   },
   {
    "duration": 60,
    "start_time": "2023-08-11T22:53:37.020Z"
   },
   {
    "duration": 13,
    "start_time": "2023-08-11T22:53:37.083Z"
   },
   {
    "duration": 87,
    "start_time": "2023-08-11T22:53:37.098Z"
   },
   {
    "duration": 44,
    "start_time": "2023-08-11T22:53:37.211Z"
   },
   {
    "duration": 55,
    "start_time": "2023-08-11T22:53:37.258Z"
   },
   {
    "duration": 14,
    "start_time": "2023-08-11T22:53:37.321Z"
   },
   {
    "duration": 28,
    "start_time": "2023-08-11T22:53:37.337Z"
   },
   {
    "duration": 5,
    "start_time": "2023-08-11T22:53:37.367Z"
   },
   {
    "duration": 7,
    "start_time": "2023-08-11T22:53:37.374Z"
   },
   {
    "duration": 356,
    "start_time": "2023-08-11T22:53:37.383Z"
   },
   {
    "duration": 14,
    "start_time": "2023-08-11T22:53:37.741Z"
   },
   {
    "duration": 18,
    "start_time": "2023-08-11T22:53:37.761Z"
   },
   {
    "duration": 20,
    "start_time": "2023-08-11T22:53:37.781Z"
   },
   {
    "duration": 26,
    "start_time": "2023-08-11T22:53:37.804Z"
   },
   {
    "duration": 66,
    "start_time": "2023-08-11T22:53:37.832Z"
   },
   {
    "duration": 4,
    "start_time": "2023-08-11T22:53:37.900Z"
   },
   {
    "duration": 204,
    "start_time": "2023-08-11T22:53:37.906Z"
   },
   {
    "duration": 59,
    "start_time": "2023-08-11T22:53:45.774Z"
   },
   {
    "duration": 5,
    "start_time": "2023-08-11T22:54:11.491Z"
   },
   {
    "duration": 181,
    "start_time": "2023-08-11T22:54:12.640Z"
   },
   {
    "duration": 4,
    "start_time": "2023-08-11T22:54:24.298Z"
   },
   {
    "duration": 168,
    "start_time": "2023-08-11T22:54:25.065Z"
   },
   {
    "duration": 42,
    "start_time": "2023-08-11T22:57:08.755Z"
   },
   {
    "duration": 855,
    "start_time": "2023-08-11T22:58:52.951Z"
   },
   {
    "duration": 738,
    "start_time": "2023-08-11T22:58:58.948Z"
   },
   {
    "duration": 834,
    "start_time": "2023-08-11T22:59:06.366Z"
   },
   {
    "duration": 837,
    "start_time": "2023-08-11T23:08:03.979Z"
   },
   {
    "duration": 749,
    "start_time": "2023-08-11T23:09:15.968Z"
   },
   {
    "duration": 493,
    "start_time": "2023-08-11T23:09:54.740Z"
   },
   {
    "duration": 637,
    "start_time": "2023-08-11T23:10:24.987Z"
   },
   {
    "duration": 232,
    "start_time": "2023-08-11T23:12:42.480Z"
   },
   {
    "duration": 205,
    "start_time": "2023-08-11T23:12:45.769Z"
   },
   {
    "duration": 302,
    "start_time": "2023-08-11T23:13:38.598Z"
   },
   {
    "duration": 205,
    "start_time": "2023-08-11T23:13:50.086Z"
   },
   {
    "duration": 267,
    "start_time": "2023-08-11T23:14:01.257Z"
   },
   {
    "duration": 237,
    "start_time": "2023-08-11T23:15:28.740Z"
   },
   {
    "duration": 296,
    "start_time": "2023-08-11T23:16:32.208Z"
   },
   {
    "duration": 219,
    "start_time": "2023-08-11T23:17:56.996Z"
   },
   {
    "duration": 214,
    "start_time": "2023-08-11T23:18:12.958Z"
   },
   {
    "duration": 237,
    "start_time": "2023-08-11T23:19:23.041Z"
   },
   {
    "duration": 200,
    "start_time": "2023-08-11T23:22:48.550Z"
   },
   {
    "duration": 20,
    "start_time": "2023-08-11T23:25:48.836Z"
   },
   {
    "duration": 1651,
    "start_time": "2023-08-11T23:25:59.146Z"
   },
   {
    "duration": 2258,
    "start_time": "2023-08-11T23:26:13.685Z"
   },
   {
    "duration": 5380,
    "start_time": "2023-08-11T23:29:57.355Z"
   },
   {
    "duration": 1949,
    "start_time": "2023-08-13T11:50:18.745Z"
   },
   {
    "duration": 166,
    "start_time": "2023-08-13T11:50:20.696Z"
   },
   {
    "duration": 27,
    "start_time": "2023-08-13T11:50:20.864Z"
   },
   {
    "duration": 32,
    "start_time": "2023-08-13T11:50:20.894Z"
   },
   {
    "duration": 12,
    "start_time": "2023-08-13T11:50:20.929Z"
   },
   {
    "duration": 25,
    "start_time": "2023-08-13T11:50:20.943Z"
   },
   {
    "duration": 77,
    "start_time": "2023-08-13T11:50:20.971Z"
   },
   {
    "duration": 40,
    "start_time": "2023-08-13T11:50:21.050Z"
   },
   {
    "duration": 10,
    "start_time": "2023-08-13T11:50:21.092Z"
   },
   {
    "duration": 35,
    "start_time": "2023-08-13T11:50:21.104Z"
   },
   {
    "duration": 8,
    "start_time": "2023-08-13T11:50:21.141Z"
   },
   {
    "duration": 16,
    "start_time": "2023-08-13T11:50:21.151Z"
   },
   {
    "duration": 365,
    "start_time": "2023-08-13T11:50:21.169Z"
   },
   {
    "duration": 11,
    "start_time": "2023-08-13T11:50:21.537Z"
   },
   {
    "duration": 18,
    "start_time": "2023-08-13T11:50:21.550Z"
   },
   {
    "duration": 22,
    "start_time": "2023-08-13T11:50:21.570Z"
   },
   {
    "duration": 11,
    "start_time": "2023-08-13T11:50:21.593Z"
   },
   {
    "duration": 33,
    "start_time": "2023-08-13T11:50:21.606Z"
   },
   {
    "duration": 26,
    "start_time": "2023-08-13T11:50:21.641Z"
   },
   {
    "duration": 301,
    "start_time": "2023-08-13T11:50:21.670Z"
   },
   {
    "duration": 0,
    "start_time": "2023-08-13T11:50:21.973Z"
   },
   {
    "duration": 0,
    "start_time": "2023-08-13T11:50:21.975Z"
   },
   {
    "duration": 0,
    "start_time": "2023-08-13T11:50:21.977Z"
   },
   {
    "duration": 618,
    "start_time": "2023-08-13T13:39:35.649Z"
   },
   {
    "duration": 223,
    "start_time": "2023-08-13T13:46:42.487Z"
   },
   {
    "duration": 2256,
    "start_time": "2023-08-13T13:46:44.827Z"
   },
   {
    "duration": 4049,
    "start_time": "2023-08-13T13:46:47.085Z"
   },
   {
    "duration": 305,
    "start_time": "2023-08-13T13:56:32.673Z"
   },
   {
    "duration": 184,
    "start_time": "2023-08-13T14:00:28.434Z"
   },
   {
    "duration": 207,
    "start_time": "2023-08-13T14:00:31.649Z"
   },
   {
    "duration": 526,
    "start_time": "2023-08-13T14:02:04.648Z"
   },
   {
    "duration": 2203,
    "start_time": "2023-08-13T14:03:05.433Z"
   },
   {
    "duration": 4060,
    "start_time": "2023-08-13T14:03:50.398Z"
   },
   {
    "duration": 3949,
    "start_time": "2023-08-13T14:05:35.387Z"
   },
   {
    "duration": 4451,
    "start_time": "2023-08-13T14:14:02.658Z"
   },
   {
    "duration": 436,
    "start_time": "2023-08-13T14:17:00.650Z"
   },
   {
    "duration": 204,
    "start_time": "2023-08-13T14:17:20.090Z"
   },
   {
    "duration": 196,
    "start_time": "2023-08-13T14:17:26.772Z"
   },
   {
    "duration": 4693,
    "start_time": "2023-08-13T14:18:02.202Z"
   },
   {
    "duration": 36,
    "start_time": "2023-08-13T14:20:00.219Z"
   },
   {
    "duration": 52,
    "start_time": "2023-08-13T14:20:33.992Z"
   },
   {
    "duration": 258,
    "start_time": "2023-08-13T14:21:32.112Z"
   },
   {
    "duration": 65,
    "start_time": "2023-08-13T14:22:04.308Z"
   },
   {
    "duration": 34,
    "start_time": "2023-08-13T14:22:05.202Z"
   },
   {
    "duration": 242,
    "start_time": "2023-08-13T14:23:12.267Z"
   },
   {
    "duration": 22275,
    "start_time": "2023-08-13T14:25:36.798Z"
   },
   {
    "duration": 897,
    "start_time": "2023-08-13T14:26:33.860Z"
   },
   {
    "duration": 3552,
    "start_time": "2023-08-13T14:26:48.495Z"
   },
   {
    "duration": 692,
    "start_time": "2023-08-13T14:27:20.306Z"
   },
   {
    "duration": 39,
    "start_time": "2023-08-13T14:28:00.004Z"
   },
   {
    "duration": 684,
    "start_time": "2023-08-13T14:28:01.689Z"
   },
   {
    "duration": 4,
    "start_time": "2023-08-13T14:35:24.918Z"
   },
   {
    "duration": 5,
    "start_time": "2023-08-13T14:35:27.930Z"
   },
   {
    "duration": 8,
    "start_time": "2023-08-13T14:36:41.019Z"
   },
   {
    "duration": 23,
    "start_time": "2023-08-13T14:37:55.358Z"
   },
   {
    "duration": 4,
    "start_time": "2023-08-13T14:48:13.898Z"
   },
   {
    "duration": 4,
    "start_time": "2023-08-13T14:48:32.233Z"
   },
   {
    "duration": 6,
    "start_time": "2023-08-13T14:48:40.510Z"
   },
   {
    "duration": 19,
    "start_time": "2023-08-13T14:55:42.931Z"
   },
   {
    "duration": 7,
    "start_time": "2023-08-13T14:55:46.603Z"
   },
   {
    "duration": 7,
    "start_time": "2023-08-13T14:55:55.158Z"
   },
   {
    "duration": 10,
    "start_time": "2023-08-13T14:57:22.946Z"
   },
   {
    "duration": 24,
    "start_time": "2023-08-13T14:58:07.893Z"
   },
   {
    "duration": 24,
    "start_time": "2023-08-13T14:58:28.801Z"
   },
   {
    "duration": 12,
    "start_time": "2023-08-13T14:58:43.923Z"
   },
   {
    "duration": 481,
    "start_time": "2023-08-13T15:01:31.115Z"
   },
   {
    "duration": 4,
    "start_time": "2023-08-13T15:01:41.311Z"
   },
   {
    "duration": 7,
    "start_time": "2023-08-13T15:02:28.400Z"
   },
   {
    "duration": 13,
    "start_time": "2023-08-13T15:02:33.509Z"
   },
   {
    "duration": 5,
    "start_time": "2023-08-13T15:04:49.426Z"
   },
   {
    "duration": 942,
    "start_time": "2023-08-13T15:05:04.133Z"
   },
   {
    "duration": 14,
    "start_time": "2023-08-13T15:05:05.145Z"
   },
   {
    "duration": 291,
    "start_time": "2023-08-13T15:05:07.042Z"
   },
   {
    "duration": 1093,
    "start_time": "2023-08-13T15:05:09.941Z"
   },
   {
    "duration": 5334,
    "start_time": "2023-08-13T15:05:13.711Z"
   },
   {
    "duration": 9,
    "start_time": "2023-08-13T15:05:21.123Z"
   },
   {
    "duration": 169,
    "start_time": "2023-08-13T15:13:54.706Z"
   },
   {
    "duration": 34,
    "start_time": "2023-08-13T15:14:20.198Z"
   },
   {
    "duration": 606,
    "start_time": "2023-08-13T15:14:28.136Z"
   },
   {
    "duration": 17,
    "start_time": "2023-08-13T15:14:43.926Z"
   },
   {
    "duration": 4,
    "start_time": "2023-08-13T15:14:49.207Z"
   },
   {
    "duration": 16,
    "start_time": "2023-08-13T15:24:15.205Z"
   },
   {
    "duration": 14,
    "start_time": "2023-08-13T15:24:18.511Z"
   },
   {
    "duration": 184,
    "start_time": "2023-08-13T15:24:19.602Z"
   },
   {
    "duration": 49,
    "start_time": "2023-08-13T15:24:21.417Z"
   },
   {
    "duration": 914,
    "start_time": "2023-08-13T15:24:24.326Z"
   },
   {
    "duration": 4,
    "start_time": "2023-08-13T15:24:42.751Z"
   },
   {
    "duration": 53,
    "start_time": "2023-08-13T15:26:37.842Z"
   },
   {
    "duration": 915,
    "start_time": "2023-08-13T15:26:39.610Z"
   },
   {
    "duration": 3,
    "start_time": "2023-08-13T15:26:40.743Z"
   },
   {
    "duration": 69,
    "start_time": "2023-08-13T15:26:45.904Z"
   },
   {
    "duration": 41,
    "start_time": "2023-08-13T15:26:47.722Z"
   },
   {
    "duration": 960,
    "start_time": "2023-08-13T15:26:50.836Z"
   },
   {
    "duration": 3,
    "start_time": "2023-08-13T15:26:51.820Z"
   },
   {
    "duration": 838,
    "start_time": "2023-08-13T15:27:51.899Z"
   },
   {
    "duration": 5,
    "start_time": "2023-08-13T15:27:55.187Z"
   },
   {
    "duration": 658,
    "start_time": "2023-08-13T15:28:06.638Z"
   },
   {
    "duration": 4,
    "start_time": "2023-08-13T15:28:08.899Z"
   },
   {
    "duration": 40,
    "start_time": "2023-08-13T15:32:09.302Z"
   },
   {
    "duration": 16,
    "start_time": "2023-08-13T15:32:12.448Z"
   },
   {
    "duration": 154,
    "start_time": "2023-08-13T15:32:13.721Z"
   },
   {
    "duration": 37,
    "start_time": "2023-08-13T15:32:25.018Z"
   },
   {
    "duration": 466,
    "start_time": "2023-08-13T15:32:26.739Z"
   },
   {
    "duration": 3,
    "start_time": "2023-08-13T15:32:39.636Z"
   },
   {
    "duration": 13,
    "start_time": "2023-08-13T15:36:42.230Z"
   },
   {
    "duration": 1816,
    "start_time": "2023-08-13T15:36:51.837Z"
   },
   {
    "duration": 90,
    "start_time": "2023-08-13T15:36:53.655Z"
   },
   {
    "duration": 36,
    "start_time": "2023-08-13T15:36:53.747Z"
   },
   {
    "duration": 25,
    "start_time": "2023-08-13T15:36:53.786Z"
   },
   {
    "duration": 13,
    "start_time": "2023-08-13T15:36:53.813Z"
   },
   {
    "duration": 15,
    "start_time": "2023-08-13T15:36:53.828Z"
   },
   {
    "duration": 72,
    "start_time": "2023-08-13T15:36:53.845Z"
   },
   {
    "duration": 57,
    "start_time": "2023-08-13T15:36:53.929Z"
   },
   {
    "duration": 12,
    "start_time": "2023-08-13T15:36:53.988Z"
   },
   {
    "duration": 17,
    "start_time": "2023-08-13T15:36:54.003Z"
   },
   {
    "duration": 11,
    "start_time": "2023-08-13T15:36:54.022Z"
   },
   {
    "duration": 15,
    "start_time": "2023-08-13T15:36:54.035Z"
   },
   {
    "duration": 18,
    "start_time": "2023-08-13T15:36:54.069Z"
   },
   {
    "duration": 17,
    "start_time": "2023-08-13T15:36:54.092Z"
   },
   {
    "duration": 33,
    "start_time": "2023-08-13T15:36:54.113Z"
   },
   {
    "duration": 8,
    "start_time": "2023-08-13T15:36:54.149Z"
   },
   {
    "duration": 92,
    "start_time": "2023-08-13T15:36:54.159Z"
   },
   {
    "duration": 12,
    "start_time": "2023-08-13T15:36:54.253Z"
   },
   {
    "duration": 32,
    "start_time": "2023-08-13T15:36:54.277Z"
   },
   {
    "duration": 965,
    "start_time": "2023-08-13T15:36:54.312Z"
   },
   {
    "duration": 17,
    "start_time": "2023-08-13T15:36:55.286Z"
   },
   {
    "duration": 222,
    "start_time": "2023-08-13T15:36:55.306Z"
   },
   {
    "duration": 908,
    "start_time": "2023-08-13T15:36:55.531Z"
   },
   {
    "duration": 4067,
    "start_time": "2023-08-13T15:36:56.441Z"
   },
   {
    "duration": 0,
    "start_time": "2023-08-13T15:37:00.513Z"
   },
   {
    "duration": 0,
    "start_time": "2023-08-13T15:37:00.514Z"
   },
   {
    "duration": 0,
    "start_time": "2023-08-13T15:37:00.515Z"
   },
   {
    "duration": 0,
    "start_time": "2023-08-13T15:37:00.518Z"
   },
   {
    "duration": 0,
    "start_time": "2023-08-13T15:37:00.520Z"
   },
   {
    "duration": 0,
    "start_time": "2023-08-13T15:37:00.521Z"
   },
   {
    "duration": 0,
    "start_time": "2023-08-13T15:37:00.522Z"
   },
   {
    "duration": 0,
    "start_time": "2023-08-13T15:37:00.523Z"
   },
   {
    "duration": 0,
    "start_time": "2023-08-13T15:37:00.524Z"
   },
   {
    "duration": 0,
    "start_time": "2023-08-13T15:37:00.525Z"
   },
   {
    "duration": 0,
    "start_time": "2023-08-13T15:37:00.526Z"
   },
   {
    "duration": 0,
    "start_time": "2023-08-13T15:37:00.527Z"
   },
   {
    "duration": 0,
    "start_time": "2023-08-13T15:37:00.528Z"
   },
   {
    "duration": 0,
    "start_time": "2023-08-13T15:37:00.530Z"
   },
   {
    "duration": 0,
    "start_time": "2023-08-13T15:37:00.532Z"
   },
   {
    "duration": 0,
    "start_time": "2023-08-13T15:37:00.533Z"
   },
   {
    "duration": 0,
    "start_time": "2023-08-13T15:37:00.535Z"
   },
   {
    "duration": 972,
    "start_time": "2023-08-13T15:38:15.396Z"
   },
   {
    "duration": 3590,
    "start_time": "2023-08-13T15:38:23.113Z"
   },
   {
    "duration": 3895,
    "start_time": "2023-08-13T15:40:10.263Z"
   },
   {
    "duration": 3898,
    "start_time": "2023-08-13T15:40:31.001Z"
   },
   {
    "duration": 1641,
    "start_time": "2023-08-13T15:40:50.498Z"
   },
   {
    "duration": 55,
    "start_time": "2023-08-13T15:40:52.142Z"
   },
   {
    "duration": 26,
    "start_time": "2023-08-13T15:40:52.199Z"
   },
   {
    "duration": 31,
    "start_time": "2023-08-13T15:40:52.228Z"
   },
   {
    "duration": 18,
    "start_time": "2023-08-13T15:40:52.264Z"
   },
   {
    "duration": 16,
    "start_time": "2023-08-13T15:40:52.286Z"
   },
   {
    "duration": 84,
    "start_time": "2023-08-13T15:40:52.310Z"
   },
   {
    "duration": 59,
    "start_time": "2023-08-13T15:40:52.401Z"
   },
   {
    "duration": 12,
    "start_time": "2023-08-13T15:40:52.462Z"
   },
   {
    "duration": 36,
    "start_time": "2023-08-13T15:40:52.476Z"
   },
   {
    "duration": 7,
    "start_time": "2023-08-13T15:40:52.514Z"
   },
   {
    "duration": 10,
    "start_time": "2023-08-13T15:40:52.524Z"
   },
   {
    "duration": 19,
    "start_time": "2023-08-13T15:40:52.536Z"
   },
   {
    "duration": 11,
    "start_time": "2023-08-13T15:40:52.567Z"
   },
   {
    "duration": 30,
    "start_time": "2023-08-13T15:40:52.581Z"
   },
   {
    "duration": 23,
    "start_time": "2023-08-13T15:40:52.614Z"
   },
   {
    "duration": 63,
    "start_time": "2023-08-13T15:40:52.639Z"
   },
   {
    "duration": 11,
    "start_time": "2023-08-13T15:40:52.708Z"
   },
   {
    "duration": 30,
    "start_time": "2023-08-13T15:40:52.721Z"
   },
   {
    "duration": 921,
    "start_time": "2023-08-13T15:40:52.754Z"
   },
   {
    "duration": 6,
    "start_time": "2023-08-13T15:40:53.685Z"
   },
   {
    "duration": 258,
    "start_time": "2023-08-13T15:40:53.693Z"
   },
   {
    "duration": 1147,
    "start_time": "2023-08-13T15:40:53.953Z"
   },
   {
    "duration": 4119,
    "start_time": "2023-08-13T15:40:55.103Z"
   },
   {
    "duration": 15,
    "start_time": "2023-08-13T15:40:59.272Z"
   },
   {
    "duration": 412,
    "start_time": "2023-08-13T15:40:59.292Z"
   },
   {
    "duration": 0,
    "start_time": "2023-08-13T15:40:59.707Z"
   },
   {
    "duration": 0,
    "start_time": "2023-08-13T15:40:59.710Z"
   },
   {
    "duration": 0,
    "start_time": "2023-08-13T15:40:59.712Z"
   },
   {
    "duration": 0,
    "start_time": "2023-08-13T15:40:59.714Z"
   },
   {
    "duration": 0,
    "start_time": "2023-08-13T15:40:59.716Z"
   },
   {
    "duration": 0,
    "start_time": "2023-08-13T15:40:59.718Z"
   },
   {
    "duration": 0,
    "start_time": "2023-08-13T15:40:59.720Z"
   },
   {
    "duration": 0,
    "start_time": "2023-08-13T15:40:59.721Z"
   },
   {
    "duration": 0,
    "start_time": "2023-08-13T15:40:59.721Z"
   },
   {
    "duration": 0,
    "start_time": "2023-08-13T15:40:59.722Z"
   },
   {
    "duration": 0,
    "start_time": "2023-08-13T15:40:59.723Z"
   },
   {
    "duration": 0,
    "start_time": "2023-08-13T15:40:59.724Z"
   },
   {
    "duration": 0,
    "start_time": "2023-08-13T15:40:59.725Z"
   },
   {
    "duration": 0,
    "start_time": "2023-08-13T15:40:59.725Z"
   },
   {
    "duration": 0,
    "start_time": "2023-08-13T15:40:59.726Z"
   },
   {
    "duration": 34,
    "start_time": "2023-08-13T15:42:02.890Z"
   },
   {
    "duration": 2113,
    "start_time": "2023-08-13T15:42:43.607Z"
   },
   {
    "duration": 45,
    "start_time": "2023-08-13T15:42:45.723Z"
   },
   {
    "duration": 31,
    "start_time": "2023-08-13T15:42:45.772Z"
   },
   {
    "duration": 37,
    "start_time": "2023-08-13T15:42:45.805Z"
   },
   {
    "duration": 10,
    "start_time": "2023-08-13T15:42:45.845Z"
   },
   {
    "duration": 32,
    "start_time": "2023-08-13T15:42:45.857Z"
   },
   {
    "duration": 53,
    "start_time": "2023-08-13T15:42:45.891Z"
   },
   {
    "duration": 70,
    "start_time": "2023-08-13T15:42:45.946Z"
   },
   {
    "duration": 12,
    "start_time": "2023-08-13T15:42:46.018Z"
   },
   {
    "duration": 17,
    "start_time": "2023-08-13T15:42:46.032Z"
   },
   {
    "duration": 6,
    "start_time": "2023-08-13T15:42:46.051Z"
   },
   {
    "duration": 14,
    "start_time": "2023-08-13T15:42:46.059Z"
   },
   {
    "duration": 18,
    "start_time": "2023-08-13T15:42:46.075Z"
   },
   {
    "duration": 13,
    "start_time": "2023-08-13T15:42:46.101Z"
   },
   {
    "duration": 18,
    "start_time": "2023-08-13T15:42:46.118Z"
   },
   {
    "duration": 9,
    "start_time": "2023-08-13T15:42:46.139Z"
   },
   {
    "duration": 42,
    "start_time": "2023-08-13T15:42:46.172Z"
   },
   {
    "duration": 3,
    "start_time": "2023-08-13T15:42:46.216Z"
   },
   {
    "duration": 958,
    "start_time": "2023-08-13T15:42:46.221Z"
   },
   {
    "duration": 14,
    "start_time": "2023-08-13T15:42:47.189Z"
   },
   {
    "duration": 220,
    "start_time": "2023-08-13T15:42:47.209Z"
   },
   {
    "duration": 1086,
    "start_time": "2023-08-13T15:42:47.431Z"
   },
   {
    "duration": 5847,
    "start_time": "2023-08-13T15:42:48.519Z"
   },
   {
    "duration": 3,
    "start_time": "2023-08-13T15:42:54.370Z"
   },
   {
    "duration": 337,
    "start_time": "2023-08-13T15:42:54.375Z"
   },
   {
    "duration": 194,
    "start_time": "2023-08-13T15:42:54.715Z"
   },
   {
    "duration": 62,
    "start_time": "2023-08-13T15:42:54.912Z"
   },
   {
    "duration": 774,
    "start_time": "2023-08-13T15:42:54.977Z"
   },
   {
    "duration": 3,
    "start_time": "2023-08-13T15:42:55.753Z"
   },
   {
    "duration": 25,
    "start_time": "2023-08-13T15:42:55.758Z"
   },
   {
    "duration": 120,
    "start_time": "2023-08-13T15:42:55.788Z"
   },
   {
    "duration": 122,
    "start_time": "2023-08-13T15:42:55.913Z"
   },
   {
    "duration": 1022,
    "start_time": "2023-08-13T15:42:56.037Z"
   },
   {
    "duration": 4,
    "start_time": "2023-08-13T15:42:57.061Z"
   },
   {
    "duration": 208,
    "start_time": "2023-08-13T15:42:57.070Z"
   },
   {
    "duration": 305,
    "start_time": "2023-08-13T15:42:57.280Z"
   },
   {
    "duration": 39,
    "start_time": "2023-08-13T15:42:57.591Z"
   },
   {
    "duration": 447,
    "start_time": "2023-08-13T15:42:57.633Z"
   },
   {
    "duration": 5,
    "start_time": "2023-08-13T15:42:58.082Z"
   },
   {
    "duration": 20,
    "start_time": "2023-08-13T15:42:58.089Z"
   },
   {
    "duration": 15,
    "start_time": "2023-08-13T15:43:18.818Z"
   },
   {
    "duration": 438,
    "start_time": "2023-08-13T15:51:33.116Z"
   },
   {
    "duration": 4,
    "start_time": "2023-08-13T15:51:36.499Z"
   },
   {
    "duration": 951,
    "start_time": "2023-08-13T15:52:23.647Z"
   },
   {
    "duration": 922,
    "start_time": "2023-08-13T15:53:28.601Z"
   },
   {
    "duration": 176,
    "start_time": "2023-08-13T15:53:31.460Z"
   },
   {
    "duration": 8,
    "start_time": "2023-08-13T16:03:08.742Z"
   },
   {
    "duration": 118,
    "start_time": "2023-08-13T16:07:04.708Z"
   },
   {
    "duration": 1679,
    "start_time": "2023-08-13T16:07:14.716Z"
   },
   {
    "duration": 4,
    "start_time": "2023-08-13T16:07:30.448Z"
   },
   {
    "duration": 42,
    "start_time": "2023-08-13T16:07:30.789Z"
   },
   {
    "duration": 15,
    "start_time": "2023-08-13T16:07:31.143Z"
   },
   {
    "duration": 18,
    "start_time": "2023-08-13T16:07:32.667Z"
   },
   {
    "duration": 9,
    "start_time": "2023-08-13T16:07:35.490Z"
   },
   {
    "duration": 5,
    "start_time": "2023-08-13T16:07:36.270Z"
   },
   {
    "duration": 44,
    "start_time": "2023-08-13T16:07:37.062Z"
   },
   {
    "duration": 37,
    "start_time": "2023-08-13T16:07:38.540Z"
   },
   {
    "duration": 5,
    "start_time": "2023-08-13T16:07:40.636Z"
   },
   {
    "duration": 11,
    "start_time": "2023-08-13T16:09:35.985Z"
   },
   {
    "duration": 10,
    "start_time": "2023-08-13T16:09:55.248Z"
   },
   {
    "duration": 10,
    "start_time": "2023-08-13T16:09:57.094Z"
   },
   {
    "duration": 9,
    "start_time": "2023-08-13T16:10:15.692Z"
   },
   {
    "duration": 10,
    "start_time": "2023-08-13T16:10:17.446Z"
   },
   {
    "duration": 7,
    "start_time": "2023-08-13T16:10:18.008Z"
   },
   {
    "duration": 4,
    "start_time": "2023-08-13T16:10:18.615Z"
   },
   {
    "duration": 13,
    "start_time": "2023-08-13T16:10:20.209Z"
   },
   {
    "duration": 13,
    "start_time": "2023-08-13T16:10:21.041Z"
   },
   {
    "duration": 4,
    "start_time": "2023-08-13T16:10:25.101Z"
   },
   {
    "duration": 14,
    "start_time": "2023-08-13T16:19:24.590Z"
   },
   {
    "duration": 89,
    "start_time": "2023-08-13T16:19:46.657Z"
   },
   {
    "duration": 90,
    "start_time": "2023-08-13T16:19:52.752Z"
   },
   {
    "duration": 82,
    "start_time": "2023-08-13T16:20:01.100Z"
   },
   {
    "duration": 86,
    "start_time": "2023-08-13T16:35:40.676Z"
   },
   {
    "duration": 16,
    "start_time": "2023-08-13T16:35:49.015Z"
   },
   {
    "duration": 1573,
    "start_time": "2023-08-13T16:36:14.006Z"
   },
   {
    "duration": 42,
    "start_time": "2023-08-13T16:36:15.582Z"
   },
   {
    "duration": 21,
    "start_time": "2023-08-13T16:36:15.626Z"
   },
   {
    "duration": 17,
    "start_time": "2023-08-13T16:36:15.650Z"
   },
   {
    "duration": 8,
    "start_time": "2023-08-13T16:36:15.669Z"
   },
   {
    "duration": 7,
    "start_time": "2023-08-13T16:36:15.679Z"
   },
   {
    "duration": 41,
    "start_time": "2023-08-13T16:36:15.687Z"
   },
   {
    "duration": 73,
    "start_time": "2023-08-13T16:36:15.730Z"
   },
   {
    "duration": 7,
    "start_time": "2023-08-13T16:36:15.805Z"
   },
   {
    "duration": 12,
    "start_time": "2023-08-13T16:36:15.816Z"
   },
   {
    "duration": 15,
    "start_time": "2023-08-13T16:36:15.830Z"
   },
   {
    "duration": 6,
    "start_time": "2023-08-13T16:36:15.866Z"
   },
   {
    "duration": 6,
    "start_time": "2023-08-13T16:36:15.873Z"
   },
   {
    "duration": 12,
    "start_time": "2023-08-13T16:36:15.881Z"
   },
   {
    "duration": 6,
    "start_time": "2023-08-13T16:36:15.894Z"
   },
   {
    "duration": 14,
    "start_time": "2023-08-13T16:36:15.902Z"
   },
   {
    "duration": 8,
    "start_time": "2023-08-13T16:36:15.918Z"
   },
   {
    "duration": 68,
    "start_time": "2023-08-13T16:36:15.928Z"
   },
   {
    "duration": 340,
    "start_time": "2023-08-13T16:36:15.998Z"
   },
   {
    "duration": 6,
    "start_time": "2023-08-13T16:36:16.340Z"
   },
   {
    "duration": 619,
    "start_time": "2023-08-13T16:36:16.348Z"
   },
   {
    "duration": 4,
    "start_time": "2023-08-13T16:36:16.971Z"
   },
   {
    "duration": 272,
    "start_time": "2023-08-13T16:36:16.977Z"
   },
   {
    "duration": 890,
    "start_time": "2023-08-13T16:36:17.250Z"
   },
   {
    "duration": 3755,
    "start_time": "2023-08-13T16:36:18.142Z"
   },
   {
    "duration": 4,
    "start_time": "2023-08-13T16:36:21.899Z"
   },
   {
    "duration": 272,
    "start_time": "2023-08-13T16:36:21.904Z"
   },
   {
    "duration": 128,
    "start_time": "2023-08-13T16:36:22.180Z"
   },
   {
    "duration": 1076,
    "start_time": "2023-08-13T16:36:22.309Z"
   },
   {
    "duration": 3,
    "start_time": "2023-08-13T16:36:23.386Z"
   },
   {
    "duration": 12,
    "start_time": "2023-08-13T16:36:23.391Z"
   },
   {
    "duration": 170,
    "start_time": "2023-08-13T16:36:23.405Z"
   },
   {
    "duration": 120,
    "start_time": "2023-08-13T16:36:23.577Z"
   },
   {
    "duration": 883,
    "start_time": "2023-08-13T16:36:23.698Z"
   },
   {
    "duration": 3,
    "start_time": "2023-08-13T16:36:24.583Z"
   },
   {
    "duration": 12,
    "start_time": "2023-08-13T16:36:24.588Z"
   },
   {
    "duration": 75,
    "start_time": "2023-08-13T16:36:24.602Z"
   },
   {
    "duration": 27,
    "start_time": "2023-08-13T16:36:24.767Z"
   },
   {
    "duration": 404,
    "start_time": "2023-08-13T16:36:24.796Z"
   },
   {
    "duration": 4,
    "start_time": "2023-08-13T16:36:25.202Z"
   },
   {
    "duration": 15,
    "start_time": "2023-08-13T16:36:25.207Z"
   },
   {
    "duration": 1266,
    "start_time": "2023-08-13T16:36:25.224Z"
   },
   {
    "duration": 279,
    "start_time": "2023-08-13T16:36:26.492Z"
   },
   {
    "duration": 10,
    "start_time": "2023-08-13T16:36:45.737Z"
   },
   {
    "duration": 400,
    "start_time": "2023-08-13T16:38:34.597Z"
   },
   {
    "duration": 385,
    "start_time": "2023-08-13T16:38:42.585Z"
   },
   {
    "duration": 799,
    "start_time": "2023-08-13T16:38:58.660Z"
   },
   {
    "duration": 1660,
    "start_time": "2023-08-13T16:39:58.333Z"
   },
   {
    "duration": 44,
    "start_time": "2023-08-13T16:39:59.995Z"
   },
   {
    "duration": 55,
    "start_time": "2023-08-13T16:40:00.041Z"
   },
   {
    "duration": 46,
    "start_time": "2023-08-13T16:40:00.099Z"
   },
   {
    "duration": 10,
    "start_time": "2023-08-13T16:40:00.147Z"
   },
   {
    "duration": 55,
    "start_time": "2023-08-13T16:40:00.158Z"
   },
   {
    "duration": 73,
    "start_time": "2023-08-13T16:40:00.215Z"
   },
   {
    "duration": 37,
    "start_time": "2023-08-13T16:40:00.290Z"
   },
   {
    "duration": 15,
    "start_time": "2023-08-13T16:40:00.329Z"
   },
   {
    "duration": 41,
    "start_time": "2023-08-13T16:40:00.347Z"
   },
   {
    "duration": 53,
    "start_time": "2023-08-13T16:40:00.390Z"
   },
   {
    "duration": 35,
    "start_time": "2023-08-13T16:40:00.446Z"
   },
   {
    "duration": 70,
    "start_time": "2023-08-13T16:40:00.483Z"
   },
   {
    "duration": 59,
    "start_time": "2023-08-13T16:40:00.555Z"
   },
   {
    "duration": 83,
    "start_time": "2023-08-13T16:40:00.617Z"
   },
   {
    "duration": 43,
    "start_time": "2023-08-13T16:40:00.702Z"
   },
   {
    "duration": 41,
    "start_time": "2023-08-13T16:40:00.747Z"
   },
   {
    "duration": 55,
    "start_time": "2023-08-13T16:40:00.791Z"
   },
   {
    "duration": 339,
    "start_time": "2023-08-13T16:40:00.849Z"
   },
   {
    "duration": 5,
    "start_time": "2023-08-13T16:40:01.191Z"
   },
   {
    "duration": 677,
    "start_time": "2023-08-13T16:40:01.198Z"
   },
   {
    "duration": 92,
    "start_time": "2023-08-13T16:40:01.877Z"
   },
   {
    "duration": 322,
    "start_time": "2023-08-13T16:40:01.972Z"
   },
   {
    "duration": 832,
    "start_time": "2023-08-13T16:40:02.296Z"
   },
   {
    "duration": 3897,
    "start_time": "2023-08-13T16:40:03.131Z"
   },
   {
    "duration": 7,
    "start_time": "2023-08-13T16:40:07.030Z"
   },
   {
    "duration": 135,
    "start_time": "2023-08-13T16:40:07.040Z"
   },
   {
    "duration": 135,
    "start_time": "2023-08-13T16:40:07.180Z"
   },
   {
    "duration": 693,
    "start_time": "2023-08-13T16:40:07.316Z"
   },
   {
    "duration": 5,
    "start_time": "2023-08-13T16:40:08.012Z"
   },
   {
    "duration": 33,
    "start_time": "2023-08-13T16:40:08.020Z"
   },
   {
    "duration": 233,
    "start_time": "2023-08-13T16:40:08.055Z"
   },
   {
    "duration": 96,
    "start_time": "2023-08-13T16:40:08.297Z"
   },
   {
    "duration": 848,
    "start_time": "2023-08-13T16:40:08.396Z"
   },
   {
    "duration": 4,
    "start_time": "2023-08-13T16:40:09.245Z"
   },
   {
    "duration": 29,
    "start_time": "2023-08-13T16:40:09.250Z"
   },
   {
    "duration": 95,
    "start_time": "2023-08-13T16:40:09.284Z"
   },
   {
    "duration": 113,
    "start_time": "2023-08-13T16:40:09.382Z"
   },
   {
    "duration": 437,
    "start_time": "2023-08-13T16:40:09.497Z"
   },
   {
    "duration": 3,
    "start_time": "2023-08-13T16:40:09.936Z"
   },
   {
    "duration": 28,
    "start_time": "2023-08-13T16:40:09.941Z"
   },
   {
    "duration": 907,
    "start_time": "2023-08-13T16:40:09.972Z"
   },
   {
    "duration": 154,
    "start_time": "2023-08-13T16:40:10.881Z"
   },
   {
    "duration": 9,
    "start_time": "2023-08-13T16:42:08.151Z"
   },
   {
    "duration": 117,
    "start_time": "2023-08-13T16:43:46.080Z"
   },
   {
    "duration": 4,
    "start_time": "2023-08-13T16:44:21.279Z"
   },
   {
    "duration": 15,
    "start_time": "2023-08-13T16:44:25.415Z"
   },
   {
    "duration": 20,
    "start_time": "2023-08-13T16:45:26.786Z"
   },
   {
    "duration": 15,
    "start_time": "2023-08-13T16:45:51.464Z"
   },
   {
    "duration": 13,
    "start_time": "2023-08-13T16:50:32.952Z"
   },
   {
    "duration": 6,
    "start_time": "2023-08-13T16:50:41.891Z"
   },
   {
    "duration": 8,
    "start_time": "2023-08-13T16:50:46.228Z"
   },
   {
    "duration": 6,
    "start_time": "2023-08-13T16:53:59.150Z"
   },
   {
    "duration": 109,
    "start_time": "2023-08-13T17:26:15.671Z"
   },
   {
    "duration": 1664,
    "start_time": "2023-08-13T17:40:27.659Z"
   },
   {
    "duration": 44,
    "start_time": "2023-08-13T17:40:29.325Z"
   },
   {
    "duration": 26,
    "start_time": "2023-08-13T17:40:29.371Z"
   },
   {
    "duration": 14,
    "start_time": "2023-08-13T17:40:29.400Z"
   },
   {
    "duration": 7,
    "start_time": "2023-08-13T17:40:29.416Z"
   },
   {
    "duration": 10,
    "start_time": "2023-08-13T17:40:29.425Z"
   },
   {
    "duration": 68,
    "start_time": "2023-08-13T17:40:29.437Z"
   },
   {
    "duration": 39,
    "start_time": "2023-08-13T17:40:29.506Z"
   },
   {
    "duration": 5,
    "start_time": "2023-08-13T17:40:29.547Z"
   },
   {
    "duration": 32,
    "start_time": "2023-08-13T17:40:29.554Z"
   },
   {
    "duration": 12,
    "start_time": "2023-08-13T17:40:29.590Z"
   },
   {
    "duration": 10,
    "start_time": "2023-08-13T17:40:29.604Z"
   },
   {
    "duration": 7,
    "start_time": "2023-08-13T17:40:29.616Z"
   },
   {
    "duration": 12,
    "start_time": "2023-08-13T17:40:29.625Z"
   },
   {
    "duration": 6,
    "start_time": "2023-08-13T17:40:29.639Z"
   },
   {
    "duration": 39,
    "start_time": "2023-08-13T17:40:29.647Z"
   },
   {
    "duration": 9,
    "start_time": "2023-08-13T17:40:29.688Z"
   },
   {
    "duration": 42,
    "start_time": "2023-08-13T17:40:29.699Z"
   },
   {
    "duration": 307,
    "start_time": "2023-08-13T17:40:29.743Z"
   },
   {
    "duration": 4,
    "start_time": "2023-08-13T17:40:30.052Z"
   },
   {
    "duration": 603,
    "start_time": "2023-08-13T17:40:30.071Z"
   },
   {
    "duration": 6,
    "start_time": "2023-08-13T17:40:30.676Z"
   },
   {
    "duration": 317,
    "start_time": "2023-08-13T17:40:30.684Z"
   },
   {
    "duration": 818,
    "start_time": "2023-08-13T17:40:31.003Z"
   },
   {
    "duration": 3530,
    "start_time": "2023-08-13T17:40:31.823Z"
   },
   {
    "duration": 23,
    "start_time": "2023-08-13T17:40:35.355Z"
   },
   {
    "duration": 97,
    "start_time": "2023-08-13T17:40:35.382Z"
   },
   {
    "duration": 114,
    "start_time": "2023-08-13T17:40:35.486Z"
   },
   {
    "duration": 615,
    "start_time": "2023-08-13T17:40:35.601Z"
   },
   {
    "duration": 4,
    "start_time": "2023-08-13T17:40:36.218Z"
   },
   {
    "duration": 25,
    "start_time": "2023-08-13T17:40:36.223Z"
   },
   {
    "duration": 130,
    "start_time": "2023-08-13T17:40:36.250Z"
   },
   {
    "duration": 123,
    "start_time": "2023-08-13T17:40:36.383Z"
   },
   {
    "duration": 795,
    "start_time": "2023-08-13T17:40:36.508Z"
   },
   {
    "duration": 3,
    "start_time": "2023-08-13T17:40:37.305Z"
   },
   {
    "duration": 15,
    "start_time": "2023-08-13T17:40:37.310Z"
   },
   {
    "duration": 154,
    "start_time": "2023-08-13T17:40:37.327Z"
   },
   {
    "duration": 28,
    "start_time": "2023-08-13T17:40:37.494Z"
   },
   {
    "duration": 444,
    "start_time": "2023-08-13T17:40:37.524Z"
   },
   {
    "duration": 7,
    "start_time": "2023-08-13T17:40:37.972Z"
   },
   {
    "duration": 18,
    "start_time": "2023-08-13T17:40:37.981Z"
   },
   {
    "duration": 877,
    "start_time": "2023-08-13T17:40:38.001Z"
   },
   {
    "duration": 149,
    "start_time": "2023-08-13T17:40:38.879Z"
   },
   {
    "duration": 67,
    "start_time": "2023-08-13T20:32:27.995Z"
   },
   {
    "duration": 44,
    "start_time": "2023-08-13T20:34:19.373Z"
   },
   {
    "duration": 1558,
    "start_time": "2023-08-13T20:34:26.214Z"
   },
   {
    "duration": 79,
    "start_time": "2023-08-13T20:34:27.774Z"
   },
   {
    "duration": 16,
    "start_time": "2023-08-13T20:34:27.854Z"
   },
   {
    "duration": 12,
    "start_time": "2023-08-13T20:34:29.261Z"
   },
   {
    "duration": 8,
    "start_time": "2023-08-13T20:34:31.999Z"
   },
   {
    "duration": 4,
    "start_time": "2023-08-13T20:34:33.378Z"
   },
   {
    "duration": 28,
    "start_time": "2023-08-13T20:34:36.033Z"
   },
   {
    "duration": 27,
    "start_time": "2023-08-13T20:34:37.343Z"
   },
   {
    "duration": 4,
    "start_time": "2023-08-13T20:34:38.183Z"
   },
   {
    "duration": 4,
    "start_time": "2023-08-13T20:34:40.231Z"
   },
   {
    "duration": 4,
    "start_time": "2023-08-13T20:35:40.330Z"
   },
   {
    "duration": 5,
    "start_time": "2023-08-13T20:36:14.555Z"
   }
  ],
  "kernelspec": {
   "display_name": "Python 3 (ipykernel)",
   "language": "python",
   "name": "python3"
  },
  "language_info": {
   "codemirror_mode": {
    "name": "ipython",
    "version": 3
   },
   "file_extension": ".py",
   "mimetype": "text/x-python",
   "name": "python",
   "nbconvert_exporter": "python",
   "pygments_lexer": "ipython3",
   "version": "3.9.13"
  },
  "toc": {
   "base_numbering": 1,
   "nav_menu": {},
   "number_sections": true,
   "sideBar": true,
   "skip_h1_title": true,
   "title_cell": "Содержание",
   "title_sidebar": "Contents",
   "toc_cell": true,
   "toc_position": {
    "height": "calc(100% - 180px)",
    "left": "10px",
    "top": "150px",
    "width": "314.188px"
   },
   "toc_section_display": true,
   "toc_window_display": true
  }
 },
 "nbformat": 4,
 "nbformat_minor": 2
}
